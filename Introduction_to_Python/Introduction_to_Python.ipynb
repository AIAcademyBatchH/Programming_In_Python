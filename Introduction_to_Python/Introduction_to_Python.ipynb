{
 "cells": [
  {
   "cell_type": "markdown",
   "metadata": {},
   "source": [
    "# Python Data Structures\n",
    "- Ints and floats\n",
    "- Str\n",
    "- Lists\n",
    "- Tuples\n",
    "- Dictionaries\n",
    "- Files"
   ]
  },
  {
   "cell_type": "markdown",
   "metadata": {},
   "source": [
    "### Ints and Floats\n",
    "- Depending upon the version of python use of behaviour of ints and floats can differ, we will be using python 3.6"
   ]
  },
  {
   "cell_type": "code",
   "execution_count": 48,
   "metadata": {},
   "outputs": [],
   "source": [
    "# # #Declare a variable \n",
    "# # Call up Value \n",
    "# #Rs.50000 - 25 years\n",
    "# #Variable is specific and case sensitive\n",
    "\n",
    "\n"
   ]
  },
  {
   "cell_type": "code",
   "execution_count": 2,
   "metadata": {},
   "outputs": [
    {
     "data": {
      "text/plain": [
       "50000"
      ]
     },
     "execution_count": 2,
     "metadata": {},
     "output_type": "execute_result"
    }
   ],
   "source": [
    "# income=50000 \n",
    "# print(income)\n",
    "\n",
    "income = 50000\n",
    "income"
   ]
  },
  {
   "cell_type": "code",
   "execution_count": 3,
   "metadata": {},
   "outputs": [
    {
     "name": "stdout",
     "output_type": "stream",
     "text": [
      "25.5\n"
     ]
    }
   ],
   "source": [
    "# Age= 25.5\n",
    "# print (Age)\n",
    "\n",
    "age = 25.5\n",
    "print(age)"
   ]
  },
  {
   "cell_type": "code",
   "execution_count": 7,
   "metadata": {},
   "outputs": [
    {
     "name": "stdout",
     "output_type": "stream",
     "text": [
      "<class 'int'>\n",
      "<class 'float'>\n"
     ]
    }
   ],
   "source": [
    "# # We can know the type of the object by using the type() method\n",
    "# print (type(income))\n",
    "# print (type(Age))\n",
    "\n",
    "print(type(income))\n",
    "print(type(age))"
   ]
  },
  {
   "cell_type": "code",
   "execution_count": 3,
   "metadata": {},
   "outputs": [
    {
     "name": "stdout",
     "output_type": "stream",
     "text": [
      "62500.0\n",
      "<class 'float'>\n"
     ]
    }
   ],
   "source": [
    "# #Variables make code Reproducible\n",
    "# Income1=50000\n",
    "# Income2=75000\n",
    "# Avg = ((Income1+Income2)/2)\n",
    "# print(Avg)\n",
    "# print(type(Avg))"
   ]
  },
  {
   "cell_type": "code",
   "execution_count": 8,
   "metadata": {},
   "outputs": [],
   "source": [
    "income1 = 50000\n",
    "income2 = 75000"
   ]
  },
  {
   "cell_type": "code",
   "execution_count": 10,
   "metadata": {},
   "outputs": [
    {
     "data": {
      "text/plain": [
       "float"
      ]
     },
     "execution_count": 10,
     "metadata": {},
     "output_type": "execute_result"
    }
   ],
   "source": [
    "avg = ((income1+income2)/2)\n",
    "avg\n",
    "type(avg)"
   ]
  },
  {
   "cell_type": "code",
   "execution_count": 5,
   "metadata": {},
   "outputs": [
    {
     "name": "stdout",
     "output_type": "stream",
     "text": [
      "0.6666666666666666\n",
      "<class 'float'>\n"
     ]
    }
   ],
   "source": [
    "# print (float(Income1)/Income2)\n",
    "# print (type(float(Income1)/Income2))\n"
   ]
  },
  {
   "cell_type": "code",
   "execution_count": 12,
   "metadata": {},
   "outputs": [
    {
     "data": {
      "text/plain": [
       "float"
      ]
     },
     "execution_count": 12,
     "metadata": {},
     "output_type": "execute_result"
    }
   ],
   "source": [
    "type(income1/income2)"
   ]
  },
  {
   "cell_type": "code",
   "execution_count": null,
   "metadata": {},
   "outputs": [],
   "source": [
    "##"
   ]
  },
  {
   "cell_type": "markdown",
   "metadata": {},
   "source": [
    "# Strings and Booleans\n",
    "\n"
   ]
  },
  {
   "cell_type": "code",
   "execution_count": 15,
   "metadata": {},
   "outputs": [
    {
     "data": {
      "text/plain": [
       "str"
      ]
     },
     "execution_count": 15,
     "metadata": {},
     "output_type": "execute_result"
    }
   ],
   "source": [
    "# Course = \"Data Science with Python\"\n",
    "# print(type(Course))\n",
    "\n",
    "course = 'AI is amazing'\n",
    "type(course)"
   ]
  },
  {
   "cell_type": "code",
   "execution_count": 17,
   "metadata": {},
   "outputs": [
    {
     "data": {
      "text/plain": [
       "bool"
      ]
     },
     "execution_count": 17,
     "metadata": {},
     "output_type": "execute_result"
    }
   ],
   "source": [
    "# Learning = True\n",
    "# print(type(Learning))\n",
    "\n",
    "learning = True\n",
    "type(learning)"
   ]
  },
  {
   "cell_type": "markdown",
   "metadata": {},
   "source": [
    "#### '+' operator behaves differently for str and int"
   ]
  },
  {
   "cell_type": "code",
   "execution_count": 18,
   "metadata": {},
   "outputs": [
    {
     "data": {
      "text/plain": [
       "20"
      ]
     },
     "execution_count": 18,
     "metadata": {},
     "output_type": "execute_result"
    }
   ],
   "source": [
    "# 3+8\n",
    "\n",
    "10+10"
   ]
  },
  {
   "cell_type": "code",
   "execution_count": 19,
   "metadata": {
    "scrolled": true
   },
   "outputs": [
    {
     "data": {
      "text/plain": [
       "'BatchH'"
      ]
     },
     "execution_count": 19,
     "metadata": {},
     "output_type": "execute_result"
    }
   ],
   "source": [
    "# 'Data' + 'Science'\n",
    "\n",
    "'Batch' + 'H'"
   ]
  },
  {
   "cell_type": "code",
   "execution_count": 11,
   "metadata": {},
   "outputs": [
    {
     "name": "stdout",
     "output_type": "stream",
     "text": [
      "3\n",
      "111\n"
     ]
    }
   ],
   "source": [
    "# #the + operator concatenates strings together, while the * concatenates multiple copies of a string together.\n",
    "# sample2 = 1 * 3\n",
    "# sample3 = \"1\" * 3\n",
    "# print(sample2)\n",
    "# print(sample3)"
   ]
  },
  {
   "cell_type": "code",
   "execution_count": 21,
   "metadata": {},
   "outputs": [
    {
     "data": {
      "text/plain": [
       "'BatchHBatchHBatchHBatchHBatchH'"
      ]
     },
     "execution_count": 21,
     "metadata": {},
     "output_type": "execute_result"
    }
   ],
   "source": [
    "'BatchH' * 5"
   ]
  },
  {
   "cell_type": "markdown",
   "metadata": {
    "collapsed": true
   },
   "source": [
    "#### Different Types behave differents. Plus works differently on a integer vs. a string"
   ]
  },
  {
   "cell_type": "markdown",
   "metadata": {},
   "source": [
    "#### only objects of same class can be concatenated"
   ]
  },
  {
   "cell_type": "code",
   "execution_count": 22,
   "metadata": {},
   "outputs": [
    {
     "name": "stdout",
     "output_type": "stream",
     "text": [
      "Sumit started with income of Rs.50000. Gradually it was increased to Rs.75000\n"
     ]
    }
   ],
   "source": [
    "print(\"Sumit started with income of Rs.\" + str(income1) + \". Gradually it was increased to Rs.\" + str(income2))"
   ]
  },
  {
   "cell_type": "code",
   "execution_count": 15,
   "metadata": {},
   "outputs": [
    {
     "name": "stdout",
     "output_type": "stream",
     "text": [
      "Sumit started with income of Rs.50000. Gradually it was increased to Rs.75000. Great!\n"
     ]
    }
   ],
   "source": [
    "print(\"Sumit started with income of Rs.\" + str(Income1) + \". Gradually it was increased to Rs.\" + str(Income2) + (\". Great!\"))"
   ]
  },
  {
   "cell_type": "code",
   "execution_count": null,
   "metadata": {},
   "outputs": [],
   "source": [
    "##"
   ]
  },
  {
   "cell_type": "code",
   "execution_count": 23,
   "metadata": {},
   "outputs": [
    {
     "data": {
      "text/plain": [
       "str"
      ]
     },
     "execution_count": 23,
     "metadata": {},
     "output_type": "execute_result"
    }
   ],
   "source": [
    "# Income = \"10000\"\n",
    "# type(Income)\n",
    "\n",
    "income = \"1000\"\n",
    "type(income)"
   ]
  },
  {
   "cell_type": "code",
   "execution_count": 26,
   "metadata": {},
   "outputs": [
    {
     "data": {
      "text/plain": [
       "int"
      ]
     },
     "execution_count": 26,
     "metadata": {},
     "output_type": "execute_result"
    }
   ],
   "source": [
    "# NIncome = int(Income)\n",
    "# NIncome\n",
    "\n",
    "new_income = int(income)\n",
    "type(new_income)"
   ]
  },
  {
   "cell_type": "code",
   "execution_count": null,
   "metadata": {},
   "outputs": [],
   "source": [
    "##"
   ]
  },
  {
   "cell_type": "markdown",
   "metadata": {},
   "source": [
    "# Lists\n"
   ]
  },
  {
   "cell_type": "code",
   "execution_count": 27,
   "metadata": {},
   "outputs": [],
   "source": [
    "#Income of a certain group\n",
    "\n",
    "Income1 = 50000\n",
    "Income2 = 75000\n",
    "Income3 = 65000\n",
    "Income4 = 45000\n",
    "Income5 = 25000\n"
   ]
  },
  {
   "cell_type": "code",
   "execution_count": 30,
   "metadata": {},
   "outputs": [
    {
     "data": {
      "text/plain": [
       "[50000, 75000, 65000, 45000, 25000]"
      ]
     },
     "execution_count": 30,
     "metadata": {},
     "output_type": "execute_result"
    }
   ],
   "source": [
    "# Income = [Income1, Income2, Income3, Income4, Income5]\n",
    "# print(Income)\n",
    "\n",
    "Income = [Income1, Income2, Income3, Income4, Income5]\n",
    "Income"
   ]
  },
  {
   "cell_type": "code",
   "execution_count": 31,
   "metadata": {},
   "outputs": [
    {
     "data": {
      "text/plain": [
       "['Sumit', 50000, 'Amit', 75000, 'Tina', 65000, 'Heena', 45000, 'Reena', 25000]"
      ]
     },
     "execution_count": 31,
     "metadata": {},
     "output_type": "execute_result"
    }
   ],
   "source": [
    "Income = [\"Sumit\",50000,\"Amit\",75000,\"Tina\",65000,\"Heena\",45000,\"Reena\",25000]\n",
    "Income"
   ]
  },
  {
   "cell_type": "code",
   "execution_count": 33,
   "metadata": {},
   "outputs": [
    {
     "data": {
      "text/plain": [
       "[['Sumit', 50000],\n",
       " ['Amit', 75000],\n",
       " ['Tina', 65000],\n",
       " ['Heena', 45000],\n",
       " ['Reena', 25000]]"
      ]
     },
     "execution_count": 33,
     "metadata": {},
     "output_type": "execute_result"
    }
   ],
   "source": [
    "# #Lists can also contain Lists themselves\n",
    "# #Instead of putting strings between the number one can create sublists for each Income entry \n",
    "\n",
    "Income2 = [['Sumit',50000],\n",
    "['Amit',75000],\n",
    "['Tina',65000],\n",
    "['Heena',45000],\n",
    "['Reena',25000]]\n",
    "\n",
    "Income2 #The main list contains 5 sub lists\n",
    "\n",
    "# Income2 = [['Sumit',50000],['Amit',75000]]"
   ]
  },
  {
   "cell_type": "code",
   "execution_count": 34,
   "metadata": {},
   "outputs": [
    {
     "data": {
      "text/plain": [
       "list"
      ]
     },
     "execution_count": 34,
     "metadata": {},
     "output_type": "execute_result"
    }
   ],
   "source": [
    "# type(Income)\n",
    "# type(Income2)\n",
    "\n",
    "type(Income2)"
   ]
  },
  {
   "cell_type": "code",
   "execution_count": 36,
   "metadata": {},
   "outputs": [
    {
     "data": {
      "text/plain": [
       "['Sumit', 50000, 'Amit', 75000, 'Tina', 65000, 'Heena', 45000, 'Reena', 25000]"
      ]
     },
     "execution_count": 36,
     "metadata": {},
     "output_type": "execute_result"
    }
   ],
   "source": [
    "# Accessing Information from a List - Use Index\n",
    "#Zero Based Indexing\n",
    "Income"
   ]
  },
  {
   "cell_type": "code",
   "execution_count": 39,
   "metadata": {},
   "outputs": [
    {
     "data": {
      "text/plain": [
       "'Reena'"
      ]
     },
     "execution_count": 39,
     "metadata": {},
     "output_type": "execute_result"
    }
   ],
   "source": [
    "# Income[5] #to access Income corresponding to Tina\n",
    "Income[8]"
   ]
  },
  {
   "cell_type": "code",
   "execution_count": null,
   "metadata": {},
   "outputs": [],
   "source": []
  },
  {
   "cell_type": "code",
   "execution_count": 40,
   "metadata": {},
   "outputs": [
    {
     "data": {
      "text/plain": [
       "['Sumit', 50000, 'Amit', 75000, 'Tina', 65000, 'Heena', 45000, 'Reena', 25000]"
      ]
     },
     "execution_count": 40,
     "metadata": {},
     "output_type": "execute_result"
    }
   ],
   "source": [
    "Income"
   ]
  },
  {
   "cell_type": "code",
   "execution_count": 45,
   "metadata": {},
   "outputs": [
    {
     "data": {
      "text/plain": [
       "['Amit', 75000, 'Tina', 65000, 'Heena', 45000, 'Reena', 25000]"
      ]
     },
     "execution_count": 45,
     "metadata": {},
     "output_type": "execute_result"
    }
   ],
   "source": [
    "Income[2:]"
   ]
  },
  {
   "cell_type": "code",
   "execution_count": 46,
   "metadata": {},
   "outputs": [
    {
     "data": {
      "text/plain": [
       "['Sumit', 50000, 'Amit', 75000, 'Tina', 65000]"
      ]
     },
     "execution_count": 46,
     "metadata": {},
     "output_type": "execute_result"
    }
   ],
   "source": [
    "Income[:6]"
   ]
  },
  {
   "cell_type": "code",
   "execution_count": 30,
   "metadata": {},
   "outputs": [
    {
     "name": "stdout",
     "output_type": "stream",
     "text": [
      "['Amit', 75000, 'Tina', 65000]\n",
      "['Sumit', 50000, 'Amit', 75000, 'Tina', 65000, 'Heena', 45000, 'Reena', 25000]\n",
      "['Amit', 75000, 'Tina', 65000, 'Heena', 45000, 'Reena', 25000]\n",
      "['Sumit', 50000]\n"
     ]
    },
    {
     "data": {
      "text/plain": [
       "125000"
      ]
     },
     "execution_count": 30,
     "metadata": {},
     "output_type": "execute_result"
    }
   ],
   "source": [
    "# #Slicing using :\n",
    "\n",
    "# list[startindex:endindex]\n",
    "\n",
    "# #[start:end] --> [inclusive:exclusive]\n",
    "\n",
    "# print(Income[2:6])\n",
    "# print(Income[:])\n",
    "# print(Income[2:])\n",
    "# print(Income[:2])"
   ]
  },
  {
   "cell_type": "code",
   "execution_count": 47,
   "metadata": {},
   "outputs": [
    {
     "data": {
      "text/plain": [
       "['Sumit', 50000, 'Amit', 75000, 'Tina', 65000, 'Heena', 45000, 'Reena', 25000]"
      ]
     },
     "execution_count": 47,
     "metadata": {},
     "output_type": "execute_result"
    }
   ],
   "source": [
    "Income"
   ]
  },
  {
   "cell_type": "code",
   "execution_count": 48,
   "metadata": {},
   "outputs": [
    {
     "data": {
      "text/plain": [
       "125000"
      ]
     },
     "execution_count": 48,
     "metadata": {},
     "output_type": "execute_result"
    }
   ],
   "source": [
    "# #Income of males \n",
    "# Income[1] + Income[3]\n",
    "Income[1] + Income[3]"
   ]
  },
  {
   "cell_type": "code",
   "execution_count": 49,
   "metadata": {},
   "outputs": [
    {
     "data": {
      "text/plain": [
       "135000"
      ]
     },
     "execution_count": 49,
     "metadata": {},
     "output_type": "execute_result"
    }
   ],
   "source": [
    "# #Income of females\n",
    "Income[-1] + Income[-3] + Income[-5]\n"
   ]
  },
  {
   "cell_type": "code",
   "execution_count": 50,
   "metadata": {},
   "outputs": [
    {
     "data": {
      "text/plain": [
       "[['Sumit', 50000],\n",
       " ['Amit', 75000],\n",
       " ['Tina', 65000],\n",
       " ['Heena', 45000],\n",
       " ['Reena', 25000]]"
      ]
     },
     "execution_count": 50,
     "metadata": {},
     "output_type": "execute_result"
    }
   ],
   "source": [
    "Income2"
   ]
  },
  {
   "cell_type": "code",
   "execution_count": 53,
   "metadata": {},
   "outputs": [
    {
     "data": {
      "text/plain": [
       "25000"
      ]
     },
     "execution_count": 53,
     "metadata": {},
     "output_type": "execute_result"
    }
   ],
   "source": [
    "# Income2[2][:]  #Accessing all elements from list of list\n",
    "\n",
    "Income2[4][1]"
   ]
  },
  {
   "cell_type": "code",
   "execution_count": null,
   "metadata": {},
   "outputs": [],
   "source": [
    "##"
   ]
  },
  {
   "cell_type": "code",
   "execution_count": 54,
   "metadata": {},
   "outputs": [
    {
     "data": {
      "text/plain": [
       "['Sumit', 50000, 'Amit', 75000, 'Tina', 65000, 'Heena', 45000, 'Reena', 25000]"
      ]
     },
     "execution_count": 54,
     "metadata": {},
     "output_type": "execute_result"
    }
   ],
   "source": [
    "Income"
   ]
  },
  {
   "cell_type": "code",
   "execution_count": 55,
   "metadata": {},
   "outputs": [
    {
     "data": {
      "text/plain": [
       "['Sumit', 55000, 'Amit', 75000, 'Tina', 65000, 'Heena', 45000, 'Reena', 25000]"
      ]
     },
     "execution_count": 55,
     "metadata": {},
     "output_type": "execute_result"
    }
   ],
   "source": [
    "# #List Manipulations\n",
    "# Income[1] = 55000 #Change\n",
    "# Income\n",
    "\n",
    "Income[1] = 55000\n",
    "Income"
   ]
  },
  {
   "cell_type": "code",
   "execution_count": 56,
   "metadata": {},
   "outputs": [
    {
     "data": {
      "text/plain": [
       "['Likith', 60000, 'Amit', 75000, 'Tina', 65000, 'Heena', 45000, 'Reena', 25000]"
      ]
     },
     "execution_count": 56,
     "metadata": {},
     "output_type": "execute_result"
    }
   ],
   "source": [
    "\n",
    "# Income[0:2] = ['Likhit',60000]  #Replacing elements\n",
    "# Income\n",
    "\n",
    "Income[0:2] = ['Likith', 60000]\n",
    "Income"
   ]
  },
  {
   "cell_type": "code",
   "execution_count": 58,
   "metadata": {},
   "outputs": [
    {
     "data": {
      "text/plain": [
       "['Likith',\n",
       " 60000,\n",
       " 'Amit',\n",
       " 75000,\n",
       " 'Tina',\n",
       " 65000,\n",
       " 'Heena',\n",
       " 45000,\n",
       " 'Reena',\n",
       " 25000,\n",
       " 'Sumit',\n",
       " 50000]"
      ]
     },
     "execution_count": 58,
     "metadata": {},
     "output_type": "execute_result"
    }
   ],
   "source": [
    "# Income_add = Income + ['Sumit',50000] #Adding elements\n",
    "# Income_add\n",
    "\n",
    "Income_new = Income + ['Sumit', 50000]\n",
    "Income_new\n",
    "## .insert(index, [elements])"
   ]
  },
  {
   "cell_type": "code",
   "execution_count": 61,
   "metadata": {},
   "outputs": [],
   "source": [
    "# del(Income_add[0:2])  #Deleting an element\n",
    "# Income_add\n",
    "\n",
    "del(Income_new[0:2])"
   ]
  },
  {
   "cell_type": "code",
   "execution_count": 62,
   "metadata": {},
   "outputs": [
    {
     "data": {
      "text/plain": [
       "['Amit', 75000, 'Tina', 65000, 'Heena', 45000, 'Reena', 25000, 'Sumit', 50000]"
      ]
     },
     "execution_count": 62,
     "metadata": {},
     "output_type": "execute_result"
    }
   ],
   "source": [
    "Income_new"
   ]
  },
  {
   "cell_type": "code",
   "execution_count": 63,
   "metadata": {},
   "outputs": [
    {
     "data": {
      "text/plain": [
       "[11, 18, 20, 10, 9]"
      ]
     },
     "execution_count": 63,
     "metadata": {},
     "output_type": "execute_result"
    }
   ],
   "source": [
    "# # Create list Age\n",
    "# age = [11, 18, 20, 10, 9]\n",
    "age = [11,18,20,10,9]\n",
    "age"
   ]
  },
  {
   "cell_type": "code",
   "execution_count": 64,
   "metadata": {},
   "outputs": [
    {
     "data": {
      "text/plain": [
       "[11, 18, 20, 10, 9]"
      ]
     },
     "execution_count": 64,
     "metadata": {},
     "output_type": "execute_result"
    }
   ],
   "source": [
    "# age_new = age\n",
    "# age_new\n",
    "\n",
    "age_new = age\n",
    "age_new"
   ]
  },
  {
   "cell_type": "code",
   "execution_count": 65,
   "metadata": {},
   "outputs": [
    {
     "data": {
      "text/plain": [
       "[11, 24, 20, 10, 9]"
      ]
     },
     "execution_count": 65,
     "metadata": {},
     "output_type": "execute_result"
    }
   ],
   "source": [
    "# age_new[1] = 24\n",
    "# age_new\n",
    "\n",
    "age_new[1] = 24\n",
    "age_new"
   ]
  },
  {
   "cell_type": "code",
   "execution_count": 66,
   "metadata": {},
   "outputs": [
    {
     "data": {
      "text/plain": [
       "[11, 24, 20, 10, 9]"
      ]
     },
     "execution_count": 66,
     "metadata": {},
     "output_type": "execute_result"
    }
   ],
   "source": [
    "# age   #Why is this happening?\n",
    "age"
   ]
  },
  {
   "cell_type": "code",
   "execution_count": 29,
   "metadata": {},
   "outputs": [
    {
     "data": {
      "text/plain": [
       "[11, 24, 20, 10, 9]"
      ]
     },
     "execution_count": 29,
     "metadata": {},
     "output_type": "execute_result"
    }
   ],
   "source": [
    "# age_new \n"
   ]
  },
  {
   "cell_type": "code",
   "execution_count": null,
   "metadata": {},
   "outputs": [],
   "source": [
    "##"
   ]
  },
  {
   "cell_type": "code",
   "execution_count": 68,
   "metadata": {},
   "outputs": [
    {
     "data": {
      "text/plain": [
       "[11, 24, 20, 10, 9]"
      ]
     },
     "execution_count": 68,
     "metadata": {},
     "output_type": "execute_result"
    }
   ],
   "source": [
    "# age_final = age_new.copy()\n",
    "# age_final\n",
    "age_final = age_new.copy()\n",
    "age_final"
   ]
  },
  {
   "cell_type": "code",
   "execution_count": 69,
   "metadata": {},
   "outputs": [
    {
     "data": {
      "text/plain": [
       "[11, 32, 20, 10, 9]"
      ]
     },
     "execution_count": 69,
     "metadata": {},
     "output_type": "execute_result"
    }
   ],
   "source": [
    "# age_final[1] = 32\n",
    "# age_final\n",
    "age_final[1] = 32\n",
    "age_final"
   ]
  },
  {
   "cell_type": "code",
   "execution_count": 73,
   "metadata": {},
   "outputs": [
    {
     "data": {
      "text/plain": [
       "[11, 24, 20, 10, 9]"
      ]
     },
     "execution_count": 73,
     "metadata": {},
     "output_type": "execute_result"
    }
   ],
   "source": [
    "# age_new\n",
    "age_new"
   ]
  },
  {
   "cell_type": "code",
   "execution_count": 72,
   "metadata": {},
   "outputs": [
    {
     "data": {
      "text/plain": [
       "[100, 24, 20, 10, 9]"
      ]
     },
     "execution_count": 72,
     "metadata": {},
     "output_type": "execute_result"
    }
   ],
   "source": [
    "age_final = age_new[:]\n",
    "age_final[0] = 100\n",
    "age_final"
   ]
  },
  {
   "cell_type": "code",
   "execution_count": 33,
   "metadata": {},
   "outputs": [
    {
     "name": "stdout",
     "output_type": "stream",
     "text": [
      "[11, 24, 20, 10, 9]\n",
      "[11, 32, 20, 10, 9]\n",
      "[11, 24, 20, 10, 9]\n"
     ]
    }
   ],
   "source": [
    "# age_final = age_new[:]\n",
    "# print(age_final)\n",
    "# age_final[1] = 32\n",
    "# print(age_final)\n",
    "# print(age_new)"
   ]
  },
  {
   "cell_type": "code",
   "execution_count": null,
   "metadata": {},
   "outputs": [],
   "source": []
  },
  {
   "cell_type": "code",
   "execution_count": null,
   "metadata": {},
   "outputs": [],
   "source": [
    "##"
   ]
  },
  {
   "cell_type": "code",
   "execution_count": 76,
   "metadata": {},
   "outputs": [
    {
     "data": {
      "text/plain": [
       "500.0"
      ]
     },
     "execution_count": 76,
     "metadata": {},
     "output_type": "execute_result"
    }
   ],
   "source": [
    "# #Functions in Python\n",
    "\n",
    "# Python = True\n",
    "\n",
    "# # Print out type of var\n",
    "# print(type(Age))\n",
    "\n",
    "a = 500\n",
    "float(a)"
   ]
  },
  {
   "cell_type": "code",
   "execution_count": 78,
   "metadata": {},
   "outputs": [
    {
     "data": {
      "text/plain": [
       "10"
      ]
     },
     "execution_count": 78,
     "metadata": {},
     "output_type": "execute_result"
    }
   ],
   "source": [
    "# # Print out length of var\n",
    "# print(len(Income))\n",
    "len(Income)"
   ]
  },
  {
   "cell_type": "code",
   "execution_count": 80,
   "metadata": {},
   "outputs": [
    {
     "data": {
      "text/plain": [
       "1"
      ]
     },
     "execution_count": 80,
     "metadata": {},
     "output_type": "execute_result"
    }
   ],
   "source": [
    "\n",
    "# # Convert var to an integer: out2\n",
    "# IntPy = int(Python)\n",
    "# IntPy\n",
    "\n",
    "Python_var = True\n",
    "type(Python_var)\n",
    "int(Python_var)"
   ]
  },
  {
   "cell_type": "code",
   "execution_count": 81,
   "metadata": {
    "scrolled": true
   },
   "outputs": [],
   "source": [
    "# # Create lists \n",
    "Age1 = [25,65,34,44]\n",
    "Age2 = [10,50]\n"
   ]
  },
  {
   "cell_type": "code",
   "execution_count": 83,
   "metadata": {},
   "outputs": [
    {
     "data": {
      "text/plain": [
       "[25, 65, 34, 44, 10, 50]"
      ]
     },
     "execution_count": 83,
     "metadata": {},
     "output_type": "execute_result"
    }
   ],
   "source": [
    "# # Paste together \n",
    "# Age_f = Age1 + Age2\n",
    "# print(Age_f)\n",
    "\n",
    "age_final = Age1 + Age2\n",
    "age_final"
   ]
  },
  {
   "cell_type": "code",
   "execution_count": 85,
   "metadata": {},
   "outputs": [
    {
     "data": {
      "text/plain": [
       "[65, 50, 44, 34, 25, 10]"
      ]
     },
     "execution_count": 85,
     "metadata": {},
     "output_type": "execute_result"
    }
   ],
   "source": [
    "# # Sort in descending order\n",
    "# Age_full = sorted(Age_f)\n",
    "# Age_FULL = sorted(Age_f, reverse = True)\n",
    "# # Print out full_sorted\n",
    "# print(Age_full)\n",
    "# print(Age_FULL)\n",
    "\n",
    "# sorted()\n",
    "sorted(age_final, reverse=True)"
   ]
  },
  {
   "cell_type": "code",
   "execution_count": 88,
   "metadata": {},
   "outputs": [
    {
     "name": "stdout",
     "output_type": "stream",
     "text": [
      "Help on built-in function sorted in module builtins:\n",
      "\n",
      "sorted(iterable, /, *, key=None, reverse=False)\n",
      "    Return a new list containing all items from the iterable in ascending order.\n",
      "    \n",
      "    A custom key function can be supplied to customize the sort order, and the\n",
      "    reverse flag can be set to request the result in descending order.\n",
      "\n"
     ]
    }
   ],
   "source": [
    "# help(sorted)\n",
    "# help(name of the function)\n",
    "help (sorted)"
   ]
  },
  {
   "cell_type": "code",
   "execution_count": null,
   "metadata": {},
   "outputs": [],
   "source": [
    "##"
   ]
  },
  {
   "cell_type": "markdown",
   "metadata": {},
   "source": [
    "# Methods"
   ]
  },
  {
   "cell_type": "code",
   "execution_count": 89,
   "metadata": {},
   "outputs": [
    {
     "data": {
      "text/plain": [
       "['Likith', 60000, 'Amit', 75000, 'Tina', 65000, 'Heena', 45000, 'Reena', 25000]"
      ]
     },
     "execution_count": 89,
     "metadata": {},
     "output_type": "execute_result"
    }
   ],
   "source": [
    "Income"
   ]
  },
  {
   "cell_type": "code",
   "execution_count": 91,
   "metadata": {},
   "outputs": [
    {
     "data": {
      "text/plain": [
       "3"
      ]
     },
     "execution_count": 91,
     "metadata": {},
     "output_type": "execute_result"
    }
   ],
   "source": [
    "# Income.index('Heena')      #Index is a method\n",
    "Income.index(75000)"
   ]
  },
  {
   "cell_type": "code",
   "execution_count": 92,
   "metadata": {},
   "outputs": [],
   "source": [
    "# Word = \"python\"\n",
    "# print(Word.upper())\n",
    "# print(Word.replace(\"n\",\"n course\"))\n",
    "\n",
    "word = \"python\""
   ]
  },
  {
   "cell_type": "code",
   "execution_count": 93,
   "metadata": {},
   "outputs": [
    {
     "data": {
      "text/plain": [
       "'PYTHON'"
      ]
     },
     "execution_count": 93,
     "metadata": {},
     "output_type": "execute_result"
    }
   ],
   "source": [
    "word.upper()"
   ]
  },
  {
   "cell_type": "code",
   "execution_count": 94,
   "metadata": {},
   "outputs": [
    {
     "data": {
      "text/plain": [
       "'pythoe'"
      ]
     },
     "execution_count": 94,
     "metadata": {},
     "output_type": "execute_result"
    }
   ],
   "source": [
    "word.replace(\"n\",\"e\")"
   ]
  },
  {
   "cell_type": "code",
   "execution_count": 95,
   "metadata": {},
   "outputs": [
    {
     "data": {
      "text/plain": [
       "['Likith', 60000, 'Amit', 75000, 'Tina', 65000, 'Heena', 45000, 'Reena', 25000]"
      ]
     },
     "execution_count": 95,
     "metadata": {},
     "output_type": "execute_result"
    }
   ],
   "source": [
    "Income"
   ]
  },
  {
   "cell_type": "code",
   "execution_count": 96,
   "metadata": {},
   "outputs": [
    {
     "ename": "AttributeError",
     "evalue": "'list' object has no attribute 'replace'",
     "output_type": "error",
     "traceback": [
      "\u001b[1;31m---------------------------------------------------------------------------\u001b[0m",
      "\u001b[1;31mAttributeError\u001b[0m                            Traceback (most recent call last)",
      "\u001b[1;32m<ipython-input-96-0aa1bc729f3b>\u001b[0m in \u001b[0;36m<module>\u001b[1;34m()\u001b[0m\n\u001b[0;32m      1\u001b[0m \u001b[1;31m# Income.replace(50000,45000)      #replace is not a method for num/int/float objects\u001b[0m\u001b[1;33m\u001b[0m\u001b[1;33m\u001b[0m\u001b[0m\n\u001b[0;32m      2\u001b[0m \u001b[1;33m\u001b[0m\u001b[0m\n\u001b[1;32m----> 3\u001b[1;33m \u001b[0mIncome\u001b[0m\u001b[1;33m.\u001b[0m\u001b[0mreplace\u001b[0m\u001b[1;33m(\u001b[0m\u001b[1;36m60000\u001b[0m\u001b[1;33m,\u001b[0m \u001b[1;36m40000\u001b[0m\u001b[1;33m)\u001b[0m\u001b[1;33m\u001b[0m\u001b[0m\n\u001b[0m",
      "\u001b[1;31mAttributeError\u001b[0m: 'list' object has no attribute 'replace'"
     ]
    }
   ],
   "source": [
    "# Income.replace(50000,45000)      #replace is not a method for num/int/float objects\n",
    "\n",
    "Income.replace(60000, 40000)"
   ]
  },
  {
   "cell_type": "code",
   "execution_count": 97,
   "metadata": {},
   "outputs": [
    {
     "data": {
      "text/plain": [
       "6"
      ]
     },
     "execution_count": 97,
     "metadata": {},
     "output_type": "execute_result"
    }
   ],
   "source": [
    "# Income.index(45000)\n",
    "Income.index('Heena')"
   ]
  },
  {
   "cell_type": "code",
   "execution_count": 99,
   "metadata": {},
   "outputs": [
    {
     "data": {
      "text/plain": [
       "3"
      ]
     },
     "execution_count": 99,
     "metadata": {},
     "output_type": "execute_result"
    }
   ],
   "source": [
    "# Word.index('t')\n",
    "word.index('h')"
   ]
  },
  {
   "cell_type": "code",
   "execution_count": 102,
   "metadata": {},
   "outputs": [
    {
     "data": {
      "text/plain": [
       "['Likith',\n",
       " 60000,\n",
       " 'Amit',\n",
       " 75000,\n",
       " 'Tina',\n",
       " 65000,\n",
       " 'Heena',\n",
       " 45000,\n",
       " 'Reena',\n",
       " 25000,\n",
       " 'Raina',\n",
       " 'Raina']"
      ]
     },
     "execution_count": 102,
     "metadata": {},
     "output_type": "execute_result"
    }
   ],
   "source": [
    "# Income.append(\"Raina\")\n",
    "# Income\n",
    "\n",
    "Income.append(\"Raina\")\n",
    "Income"
   ]
  },
  {
   "cell_type": "code",
   "execution_count": 103,
   "metadata": {},
   "outputs": [
    {
     "data": {
      "text/plain": [
       "2"
      ]
     },
     "execution_count": 103,
     "metadata": {},
     "output_type": "execute_result"
    }
   ],
   "source": [
    "# Sample = \"Beautiful\"\n",
    "# print(Sample.count(\"u\"))\n",
    "\n",
    "sample = 'Beautiful'\n",
    "sample.count(\"u\")"
   ]
  },
  {
   "cell_type": "code",
   "execution_count": 104,
   "metadata": {},
   "outputs": [
    {
     "data": {
      "text/plain": [
       "1"
      ]
     },
     "execution_count": 104,
     "metadata": {},
     "output_type": "execute_result"
    }
   ],
   "source": [
    "# # Print out how often 25000 appears in Income\n",
    "# print(Income.count(25000))\n",
    "\n",
    "Income.count(\"Likith\")"
   ]
  },
  {
   "cell_type": "code",
   "execution_count": 40,
   "metadata": {},
   "outputs": [
    {
     "name": "stdout",
     "output_type": "stream",
     "text": [
      "range(0, 11)\n",
      "[0, 1, 2, 3, 4, 5, 6, 7, 8, 9, 10]\n"
     ]
    }
   ],
   "source": [
    "# c=range(11)\n",
    "# print(c)\n",
    "# print (list(c))\n",
    "\n"
   ]
  },
  {
   "cell_type": "code",
   "execution_count": 105,
   "metadata": {},
   "outputs": [
    {
     "data": {
      "text/plain": [
       "['__add__',\n",
       " '__class__',\n",
       " '__contains__',\n",
       " '__delattr__',\n",
       " '__delitem__',\n",
       " '__dir__',\n",
       " '__doc__',\n",
       " '__eq__',\n",
       " '__format__',\n",
       " '__ge__',\n",
       " '__getattribute__',\n",
       " '__getitem__',\n",
       " '__gt__',\n",
       " '__hash__',\n",
       " '__iadd__',\n",
       " '__imul__',\n",
       " '__init__',\n",
       " '__init_subclass__',\n",
       " '__iter__',\n",
       " '__le__',\n",
       " '__len__',\n",
       " '__lt__',\n",
       " '__mul__',\n",
       " '__ne__',\n",
       " '__new__',\n",
       " '__reduce__',\n",
       " '__reduce_ex__',\n",
       " '__repr__',\n",
       " '__reversed__',\n",
       " '__rmul__',\n",
       " '__setattr__',\n",
       " '__setitem__',\n",
       " '__sizeof__',\n",
       " '__str__',\n",
       " '__subclasshook__',\n",
       " 'append',\n",
       " 'clear',\n",
       " 'copy',\n",
       " 'count',\n",
       " 'extend',\n",
       " 'index',\n",
       " 'insert',\n",
       " 'pop',\n",
       " 'remove',\n",
       " 'reverse',\n",
       " 'sort']"
      ]
     },
     "execution_count": 105,
     "metadata": {},
     "output_type": "execute_result"
    }
   ],
   "source": [
    "dir(Income) # help() and dir()"
   ]
  },
  {
   "cell_type": "code",
   "execution_count": 120,
   "metadata": {},
   "outputs": [
    {
     "name": "stdout",
     "output_type": "stream",
     "text": [
      "Help on built-in function append:\n",
      "\n",
      "append(...) method of builtins.list instance\n",
      "    L.append(object) -> None -- append object to end\n",
      "\n"
     ]
    }
   ],
   "source": [
    "help(Income.append)"
   ]
  },
  {
   "cell_type": "code",
   "execution_count": null,
   "metadata": {},
   "outputs": [],
   "source": [
    "##"
   ]
  },
  {
   "cell_type": "markdown",
   "metadata": {},
   "source": [
    "### Looping and conditionals interlude\n",
    "- Using for loops and if-else statements\n"
   ]
  },
  {
   "cell_type": "code",
   "execution_count": 109,
   "metadata": {},
   "outputs": [],
   "source": [
    "Location = ['Delhi','Mumbai','Chennai']"
   ]
  },
  {
   "cell_type": "code",
   "execution_count": 110,
   "metadata": {},
   "outputs": [
    {
     "name": "stdout",
     "output_type": "stream",
     "text": [
      "Delhi\n",
      "Mumbai\n",
      "Chennai\n"
     ]
    }
   ],
   "source": [
    "## for loop\n",
    "for x in Location:\n",
    "    print(x)"
   ]
  },
  {
   "cell_type": "code",
   "execution_count": 117,
   "metadata": {},
   "outputs": [
    {
     "data": {
      "text/plain": [
       "[0, 1, 2, 3]"
      ]
     },
     "execution_count": 117,
     "metadata": {},
     "output_type": "execute_result"
    }
   ],
   "source": [
    "list(range(0,4))"
   ]
  },
  {
   "cell_type": "code",
   "execution_count": 115,
   "metadata": {},
   "outputs": [
    {
     "name": "stdout",
     "output_type": "stream",
     "text": [
      "0\n",
      "1\n",
      "2\n",
      "3\n"
     ]
    }
   ],
   "source": [
    "for x in range(0,4):\n",
    "    print(x)"
   ]
  },
  {
   "cell_type": "code",
   "execution_count": 124,
   "metadata": {},
   "outputs": [],
   "source": [
    "# help(function name)\n",
    "# help(variable.methodname)"
   ]
  },
  {
   "cell_type": "code",
   "execution_count": 33,
   "metadata": {},
   "outputs": [
    {
     "name": "stdout",
     "output_type": "stream",
     "text": [
      "Yay!!\n"
     ]
    }
   ],
   "source": [
    "# # We can control the flow of execution of code by using conditionals such as if-else\n",
    "# if 2>3:#Notice that a statement is followed by a :\n",
    "#     print ('Is it possible?')\n",
    "    \n",
    "# else:\n",
    "#     print ('Yay!!')"
   ]
  },
  {
   "cell_type": "code",
   "execution_count": 125,
   "metadata": {},
   "outputs": [
    {
     "name": "stdout",
     "output_type": "stream",
     "text": [
      "told you so\n"
     ]
    }
   ],
   "source": [
    "## if-else\n",
    "\n",
    "if 2>3:\n",
    "    print('Is it possible?')\n",
    "    \n",
    "else:\n",
    "    print('told you so')"
   ]
  },
  {
   "cell_type": "code",
   "execution_count": null,
   "metadata": {},
   "outputs": [],
   "source": [
    "## create a list of numbers from 1 to 10\n",
    "## for loop that prints only even numbers"
   ]
  },
  {
   "cell_type": "code",
   "execution_count": 128,
   "metadata": {},
   "outputs": [
    {
     "name": "stdout",
     "output_type": "stream",
     "text": [
      "0\n",
      "2\n",
      "4\n",
      "6\n",
      "8\n",
      "10\n"
     ]
    }
   ],
   "source": [
    "list1 = list(range(0,11))\n",
    "\n",
    "for x in list1:\n",
    "    if (x%2==0):\n",
    "        print(x)"
   ]
  },
  {
   "cell_type": "markdown",
   "metadata": {},
   "source": [
    "### Case Study\n",
    "- Use the assign_txt\n",
    "- Count number of capital letters\n",
    "- How many times has the word RSS occured?\n",
    "- How many times has the word Modi occured?"
   ]
  },
  {
   "cell_type": "code",
   "execution_count": 129,
   "metadata": {},
   "outputs": [],
   "source": [
    "assign_txt=\"Narendra Damodardas Modi, born 17 September 1950) is the 15th and current Prime Minister of India, in office since 26 May 2014.odi, a leader of the Bharatiya Janata Party was the Chief Minister of Gujarat from 2001 to 2014 and is the Member of Parliament from Varanasi. He led the BJP in the 2014 general election, which gave the party a majority in the Lok Sabha, the first for any political party in India since 1984.As the Chief Minister of Gujarat, Modi's economic policies were praised, while his administration was also criticised for failing to significantly improve the human development in the state, and for failing to prevent the 2002 Gujarat riots. A Hindu nationalist and member of the Rashtriya Swayamsevak Sangh, Modi,remains a controversial figure domestically and internationally. Modi was born on 17 September 1950, to a family of grocers in Vadnagar, Mehsana district, Bombay State (present-day Gujarat).Modi's family belonged to the Modh-Ghanchi-Teli (oil-presser) community,hich is categorised as an Other Backward Class by the Indian government.Modi was the third of six children born to Damodardas Mulchand (1915–1989) and Heeraben Modi (b. c. 1920).As a child, Modi helped his father sell tea at the Vadnagar railway station, and later ran a tea stall with his brother near a bus terminus.Modi completed his higher secondary education in Vadnagar in 1967, where a teacher described him as an average student and a keen debater, with an interest in theatre.Modi had an early gift for rhetoric in debates, and this was noted by his teachers and students.Modi preferred playing larger-than-life characters in theatrical productions, which has influenced his political image.At age eight, Modi discovered the Rashtriya Swayamsevak Sangh (RSS), and began attending its local shakhas (training sessions). There, Modi met Lakshmanrao Inamdar, popularly known as Vakil Saheb, who inducted him as an RSS balswayamsevak (junior cadet) and became his political mentor.While Modi was training with the RSS, he also met Vasant Gajendragadkar and Nathalal Jaghda, Bharatiya Jana Sangh leaders who were founding members of the BJP's Gujarat unit in 1980.Engaged while still a child to a local girl, Jashodaben Narendrabhai Modi, Modi rejected the arranged marriage at the same time he graduated from high school.The resulting familial tensions contributed to his decision to leave home in 1967.Modi spent the ensuing two years travelling across Northern and North-eastern India, though few details of where he went have emerged.In interviews, Modi has described visiting Hindu ashrams founded by Swami Vivekananda: the Belur Math near Kolkata, followed by the Advaita Ashrama in Almora and the Ramakrishna mission in Rajkot. Modi remained only a short time at each, since he lacked the required college education.\""
   ]
  },
  {
   "cell_type": "code",
   "execution_count": 52,
   "metadata": {},
   "outputs": [
    {
     "name": "stdout",
     "output_type": "stream",
     "text": [
      "3\n"
     ]
    }
   ],
   "source": [
    "# print (assign_txt.count('RSS'))\n"
   ]
  },
  {
   "cell_type": "code",
   "execution_count": 53,
   "metadata": {},
   "outputs": [
    {
     "name": "stdout",
     "output_type": "stream",
     "text": [
      "19\n"
     ]
    }
   ],
   "source": [
    "# print (assign_txt.count('Modi'))\n"
   ]
  },
  {
   "cell_type": "code",
   "execution_count": 181,
   "metadata": {},
   "outputs": [
    {
     "name": "stdout",
     "output_type": "stream",
     "text": [
      "120\n"
     ]
    }
   ],
   "source": [
    "# .isupper() - check whether a letter is Capital or not\n",
    "\n",
    "c=0\n",
    "for i in assign_txt:\n",
    "    if i.isupper():\n",
    "        c=c+1\n",
    "print(c)\n"
   ]
  },
  {
   "cell_type": "code",
   "execution_count": 55,
   "metadata": {},
   "outputs": [
    {
     "name": "stdout",
     "output_type": "stream",
     "text": [
      "120\n"
     ]
    }
   ],
   "source": [
    "# c=0\n",
    "# for l in assign_txt:    # 'l' goes through every object in assign_txt       \n",
    "#     if l.isupper():    # the moment it encounters a Capital letter\n",
    "#         c = c+1\n",
    "      \n",
    "# print (c)\n"
   ]
  },
  {
   "cell_type": "code",
   "execution_count": null,
   "metadata": {},
   "outputs": [],
   "source": [
    "##"
   ]
  },
  {
   "cell_type": "markdown",
   "metadata": {},
   "source": [
    "# List Comprehension"
   ]
  },
  {
   "cell_type": "code",
   "execution_count": 131,
   "metadata": {},
   "outputs": [
    {
     "data": {
      "text/plain": [
       "[2, 3, 4, 5]"
      ]
     },
     "execution_count": 131,
     "metadata": {},
     "output_type": "execute_result"
    }
   ],
   "source": [
    "c=[2,3,4,5]\n",
    "c"
   ]
  },
  {
   "cell_type": "code",
   "execution_count": 133,
   "metadata": {},
   "outputs": [
    {
     "name": "stdout",
     "output_type": "stream",
     "text": [
      "[4, 9, 16, 25]\n"
     ]
    }
   ],
   "source": [
    "# #Suppose we want to create a list containing the squares in the list c\n",
    "# #Method 1\n",
    "# s=[]\n",
    "# for num in c:\n",
    "#     s.append(num**2)\n",
    "# print(s)\n",
    "\n",
    "newlist=[]\n",
    "for x in c:\n",
    "    newlist.append(x**2)\n",
    "print(newlist)"
   ]
  },
  {
   "cell_type": "code",
   "execution_count": 134,
   "metadata": {},
   "outputs": [
    {
     "data": {
      "text/plain": [
       "[4, 9, 16, 25]"
      ]
     },
     "execution_count": 134,
     "metadata": {},
     "output_type": "execute_result"
    }
   ],
   "source": [
    "# #Method 2\n",
    "# [x**2 for x in c ] #Very concise way\n",
    "\n",
    "## [ output expression/command iteration condition]\n",
    "\n",
    "[x**2 for x in c]"
   ]
  },
  {
   "cell_type": "code",
   "execution_count": 135,
   "metadata": {},
   "outputs": [],
   "source": [
    "income = 50000"
   ]
  },
  {
   "cell_type": "code",
   "execution_count": 136,
   "metadata": {},
   "outputs": [
    {
     "ename": "TypeError",
     "evalue": "'int' object is not iterable",
     "output_type": "error",
     "traceback": [
      "\u001b[1;31m---------------------------------------------------------------------------\u001b[0m",
      "\u001b[1;31mTypeError\u001b[0m                                 Traceback (most recent call last)",
      "\u001b[1;32m<ipython-input-136-258199c1f7ff>\u001b[0m in \u001b[0;36m<module>\u001b[1;34m()\u001b[0m\n\u001b[0;32m      1\u001b[0m \u001b[1;31m# [x+2 for x in income ]   #Why error\u001b[0m\u001b[1;33m\u001b[0m\u001b[1;33m\u001b[0m\u001b[0m\n\u001b[0;32m      2\u001b[0m \u001b[1;33m\u001b[0m\u001b[0m\n\u001b[1;32m----> 3\u001b[1;33m \u001b[1;33m[\u001b[0m\u001b[0mx\u001b[0m\u001b[1;33m+\u001b[0m\u001b[1;36m2\u001b[0m \u001b[1;32mfor\u001b[0m \u001b[0mx\u001b[0m \u001b[1;32min\u001b[0m \u001b[0mincome\u001b[0m\u001b[1;33m]\u001b[0m\u001b[1;33m\u001b[0m\u001b[0m\n\u001b[0m",
      "\u001b[1;31mTypeError\u001b[0m: 'int' object is not iterable"
     ]
    }
   ],
   "source": [
    "# [x+2 for x in income ]   #Why error\n",
    "\n",
    "[x+2 for x in income]"
   ]
  },
  {
   "cell_type": "markdown",
   "metadata": {},
   "source": [
    "\n",
    "-Suppose we want to create a list from a and b such that it looks like the following:\n",
    "- [[1,'a'],[2,'b'],[3,'c'],[4,'d']]"
   ]
  },
  {
   "cell_type": "code",
   "execution_count": 137,
   "metadata": {},
   "outputs": [],
   "source": [
    "a=[1,2,3,4]\n",
    "b=['a','b','c','d']"
   ]
  },
  {
   "cell_type": "code",
   "execution_count": 138,
   "metadata": {},
   "outputs": [
    {
     "data": {
      "text/plain": [
       "[[1, 'a'], [2, 'b'], [3, 'c'], [4, 'd']]"
      ]
     },
     "execution_count": 138,
     "metadata": {},
     "output_type": "execute_result"
    }
   ],
   "source": [
    "# ## list comprehension using lists\n",
    "# ## two for loops in a single line of code\n",
    "# \n",
    "\n",
    "[[x,y] for x in a for y in b if a.index(x)==b.index(y)]\n"
   ]
  },
  {
   "cell_type": "code",
   "execution_count": null,
   "metadata": {},
   "outputs": [],
   "source": []
  },
  {
   "cell_type": "code",
   "execution_count": 139,
   "metadata": {},
   "outputs": [
    {
     "data": {
      "text/plain": [
       "[[0, 3], [0, 4], [1, 3], [1, 4]]"
      ]
     },
     "execution_count": 139,
     "metadata": {},
     "output_type": "execute_result"
    }
   ],
   "source": [
    "# ## list comprehension on 'range'\n",
    "# pairs = []\n",
    "# for p in range(0,2):\n",
    "#     for q in range(3,5):\n",
    "#         pairs.append([p,q])\n",
    "# print(pairs)\n",
    "\n",
    "pair = []\n",
    "for x in range(0,2): # x=0, x=1\n",
    "    for y in range(3,5): #y=3, y=4, y=3, y=4\n",
    "        pair.append([x,y]) #[[0,3],[0,4],[1,3],[1,4]]\n",
    "pair"
   ]
  },
  {
   "cell_type": "code",
   "execution_count": 140,
   "metadata": {},
   "outputs": [
    {
     "data": {
      "text/plain": [
       "[[0, 3], [0, 4], [1, 3], [1, 4]]"
      ]
     },
     "execution_count": 140,
     "metadata": {},
     "output_type": "execute_result"
    }
   ],
   "source": [
    "[[x,y] for x in range(0,2) for y in range(3,5)]"
   ]
  },
  {
   "cell_type": "code",
   "execution_count": 73,
   "metadata": {},
   "outputs": [
    {
     "name": "stdout",
     "output_type": "stream",
     "text": [
      "[[0, 3], [0, 4], [1, 3], [1, 4]]\n"
     ]
    }
   ],
   "source": [
    "# # better method\n",
    "# pairs2 = [[p,q] for p in range(0,2) for q in range(3,5)]\n",
    "# print(pairs2)\n",
    "\n"
   ]
  },
  {
   "cell_type": "code",
   "execution_count": 141,
   "metadata": {},
   "outputs": [
    {
     "data": {
      "text/plain": [
       "<zip at 0x24d50193b08>"
      ]
     },
     "execution_count": 141,
     "metadata": {},
     "output_type": "execute_result"
    }
   ],
   "source": [
    "# # zip\n",
    "a=[1,2,3,4]\n",
    "b=['a','b','c','d']\n",
    "zip(a,b) \n",
    "# #zip gives a generator expression\n"
   ]
  },
  {
   "cell_type": "code",
   "execution_count": 142,
   "metadata": {},
   "outputs": [
    {
     "data": {
      "text/plain": [
       "[(1, 'a'), (2, 'b'), (3, 'c'), (4, 'd')]"
      ]
     },
     "execution_count": 142,
     "metadata": {},
     "output_type": "execute_result"
    }
   ],
   "source": [
    "# # list comprehension on a generator expression\n",
    "# print(list(zip(a,b)))\n",
    "\n",
    "list(zip(a,b))\n"
   ]
  },
  {
   "cell_type": "code",
   "execution_count": 143,
   "metadata": {},
   "outputs": [
    {
     "data": {
      "text/plain": [
       "[[1, 'a'], [2, 'b'], [3, 'c'], [4, 'd']]"
      ]
     },
     "execution_count": 143,
     "metadata": {},
     "output_type": "execute_result"
    }
   ],
   "source": [
    "# [list(x) for x in zip(a,b) ]\n",
    "[list(x) for x in zip(a,b)]"
   ]
  },
  {
   "cell_type": "code",
   "execution_count": 144,
   "metadata": {},
   "outputs": [
    {
     "data": {
      "text/plain": [
       "['P', 'Q', 'R']"
      ]
     },
     "execution_count": 144,
     "metadata": {},
     "output_type": "execute_result"
    }
   ],
   "source": [
    "x = ['P', 6, 1, 'Q', 5, 'R']           #List Comprehension - Conditions on output expression\n",
    "\n",
    "# print(strings)\n",
    "[i for i in x if type(i)==str]"
   ]
  },
  {
   "cell_type": "code",
   "execution_count": 145,
   "metadata": {},
   "outputs": [
    {
     "data": {
      "text/plain": [
       "[0, 4, 16, 36, 64]"
      ]
     },
     "execution_count": 145,
     "metadata": {},
     "output_type": "execute_result"
    }
   ],
   "source": [
    "# ## square only if its even\n",
    "# [num**2 for num in range(10) if num%2 ==0]\n",
    "\n",
    "[num**2 for num in range(0,10) if num%2==0]"
   ]
  },
  {
   "cell_type": "code",
   "execution_count": 146,
   "metadata": {},
   "outputs": [
    {
     "data": {
      "text/plain": [
       "[0, 0, 4, 0, 16, 0, 36, 0, 64, 0]"
      ]
     },
     "execution_count": 146,
     "metadata": {},
     "output_type": "execute_result"
    }
   ],
   "source": [
    "# [num**2 if num%2 ==0 else 0 for num in range(10)]\n",
    "\n",
    "[num**2 if num%2==0 else 0 for num in range(0,10)]"
   ]
  },
  {
   "cell_type": "code",
   "execution_count": null,
   "metadata": {},
   "outputs": [],
   "source": [
    "##"
   ]
  },
  {
   "cell_type": "code",
   "execution_count": 160,
   "metadata": {
    "scrolled": true
   },
   "outputs": [
    {
     "data": {
      "text/plain": [
       "<generator object <genexpr> at 0x0000024D5019C728>"
      ]
     },
     "execution_count": 160,
     "metadata": {},
     "output_type": "execute_result"
    }
   ],
   "source": [
    "# ## generator expressions\n",
    "# ## useful when producing a list with many elements\n",
    "# ## this output saves memory space\n",
    "# ## can loop over as seen before - past list()\n",
    "\n",
    "# int_list = [-2, 4, 1, 6, -3]\n",
    "# print(x for x in int_list if x > 0) ## use () instead of []\n",
    "# print(list(x for x in int_list if x > 0))\n",
    "\n",
    "list1 = [-2, 4, 1, 6, -3]\n",
    "gen1 = (x for x in list1 if x>0)\n",
    "gen1"
   ]
  },
  {
   "cell_type": "code",
   "execution_count": 161,
   "metadata": {},
   "outputs": [
    {
     "data": {
      "text/plain": [
       "[4, 1, 6]"
      ]
     },
     "execution_count": 161,
     "metadata": {},
     "output_type": "execute_result"
    }
   ],
   "source": [
    "list(gen1)"
   ]
  },
  {
   "cell_type": "code",
   "execution_count": null,
   "metadata": {},
   "outputs": [],
   "source": [
    "##"
   ]
  },
  {
   "cell_type": "code",
   "execution_count": 165,
   "metadata": {},
   "outputs": [],
   "source": [
    "import numpy as np\n",
    "x = [1,2,3]\n",
    "y = ['a','b',np.NaN]"
   ]
  },
  {
   "cell_type": "code",
   "execution_count": 166,
   "metadata": {},
   "outputs": [
    {
     "data": {
      "text/plain": [
       "[(1, 'a'), (2, 'b'), (3, nan)]"
      ]
     },
     "execution_count": 166,
     "metadata": {},
     "output_type": "execute_result"
    }
   ],
   "source": [
    "list(zip(x,y))"
   ]
  },
  {
   "cell_type": "markdown",
   "metadata": {},
   "source": [
    "### Lambdas, map\n",
    "- We can use lambdas, map to replicate the functionality of list comprehension"
   ]
  },
  {
   "cell_type": "code",
   "execution_count": 169,
   "metadata": {},
   "outputs": [
    {
     "data": {
      "text/plain": [
       "8"
      ]
     },
     "execution_count": 169,
     "metadata": {},
     "output_type": "execute_result"
    }
   ],
   "source": [
    "def square(x,y):\n",
    "    return x**y\n",
    "\n",
    "square(2,3)"
   ]
  },
  {
   "cell_type": "code",
   "execution_count": 168,
   "metadata": {},
   "outputs": [
    {
     "data": {
      "text/plain": [
       "8"
      ]
     },
     "execution_count": 168,
     "metadata": {},
     "output_type": "execute_result"
    }
   ],
   "source": [
    "square = lambda x,y:x**y\n",
    "square(2,3)"
   ]
  },
  {
   "cell_type": "code",
   "execution_count": 170,
   "metadata": {},
   "outputs": [],
   "source": [
    "list1 = [2,7,8,4,9]\n",
    "list2 = map(lambda x:x**2,list1)"
   ]
  },
  {
   "cell_type": "code",
   "execution_count": 172,
   "metadata": {},
   "outputs": [
    {
     "data": {
      "text/plain": [
       "[4, 49, 64, 16, 81]"
      ]
     },
     "execution_count": 172,
     "metadata": {},
     "output_type": "execute_result"
    }
   ],
   "source": [
    "list(list2)"
   ]
  },
  {
   "cell_type": "code",
   "execution_count": 175,
   "metadata": {},
   "outputs": [
    {
     "data": {
      "text/plain": [
       "[16.528925619834713,\n",
       " 19.031141868512112,\n",
       " 27.055150884495315,\n",
       " 23.456790123456788]"
      ]
     },
     "execution_count": 175,
     "metadata": {},
     "output_type": "execute_result"
    }
   ],
   "source": [
    "mass=[45,55,65,76]\n",
    "ht=[1.65,1.70,1.55,1.80]\n",
    "\n",
    "bmi = list(map(lambda x,y:x/y**2,mass,ht))\n",
    "bmi"
   ]
  },
  {
   "cell_type": "code",
   "execution_count": 178,
   "metadata": {},
   "outputs": [
    {
     "data": {
      "text/plain": [
       "[16.528925619834713, 19.031141868512112]"
      ]
     },
     "execution_count": 178,
     "metadata": {},
     "output_type": "execute_result"
    }
   ],
   "source": [
    "bmi_f=filter(lambda x:x<20,bmi)\n",
    "list(bmi_f)##(condition, sequence)"
   ]
  },
  {
   "cell_type": "code",
   "execution_count": 8,
   "metadata": {},
   "outputs": [
    {
     "name": "stdout",
     "output_type": "stream",
     "text": [
      "YayYayYay\n"
     ]
    }
   ],
   "source": [
    "# # Define W1 as a lambda function\n",
    "# W1 = (lambda x, y: x * y)\n",
    "\n",
    "# # Call W1: result\n",
    "# result = W1('Yay', 3)\n",
    "\n",
    "# # Print result\n",
    "# print(result)"
   ]
  },
  {
   "cell_type": "code",
   "execution_count": null,
   "metadata": {},
   "outputs": [],
   "source": []
  },
  {
   "cell_type": "code",
   "execution_count": 44,
   "metadata": {},
   "outputs": [
    {
     "data": {
      "text/plain": [
       "[4, 16, 36, 64, 100]"
      ]
     },
     "execution_count": 44,
     "metadata": {},
     "output_type": "execute_result"
    }
   ],
   "source": [
    "# nums = [2, 4, 6, 8, 10]\n",
    "# result = map(lambda a: a ** 2, nums)\n",
    "# list(result)\n",
    "\n"
   ]
  },
  {
   "cell_type": "code",
   "execution_count": 179,
   "metadata": {
    "scrolled": true
   },
   "outputs": [
    {
     "data": {
      "text/plain": [
       "['Delhi', 'Pune']"
      ]
     },
     "execution_count": 179,
     "metadata": {},
     "output_type": "execute_result"
    }
   ],
   "source": [
    "# # Filter\n",
    "Cities = ['Delhi', 'Pune', 'Chennai', 'Kolkata']\n",
    "\n",
    "loc = filter(lambda x:len(x)<6, Cities)\n",
    "list(loc)"
   ]
  },
  {
   "cell_type": "markdown",
   "metadata": {},
   "source": [
    "# Error Handling"
   ]
  },
  {
   "cell_type": "markdown",
   "metadata": {},
   "source": [
    "#### Error handling helps to print an error message if a particular condition is not satisfied"
   ]
  },
  {
   "cell_type": "code",
   "execution_count": 46,
   "metadata": {},
   "outputs": [
    {
     "name": "stdout",
     "output_type": "stream",
     "text": [
      "x argument must be a string and y argument must be an integer.\n"
     ]
    },
    {
     "data": {
      "text/plain": [
       "'YayYayYay!!'"
      ]
     },
     "execution_count": 46,
     "metadata": {},
     "output_type": "execute_result"
    }
   ],
   "source": [
    "# a function where if its not satisfied\n",
    "## Prints an error message - if input is int instead of str\n",
    "# Define w\n",
    "def w3(x, y=1):\n",
    "    ## doc string - a document for the fn thats created\n",
    "    \"\"\"Concatenate  copies of word1 and two\n",
    "    exclamation marks at the end of the string.\"\"\"\n",
    "\n",
    "    # Initialize empty strings: \n",
    "    w3 = ''\n",
    "    s3 = ''\n",
    "\n",
    "    # Add exception handling with try-except\n",
    "    try:\n",
    "        # Concatenate copies of word using *\n",
    "        w3 = x * y\n",
    "\n",
    "        # Concatenate '!!' \n",
    "        s3 = w3 + '!!'\n",
    "    except:\n",
    "        # Print error message\n",
    "        print(\"x argument must be a string and y argument must be an integer.\")\n",
    "\n",
    "   \n",
    "    return s3\n",
    "\n",
    "# Call s\n",
    "\n",
    "w3(\"Yay\", \"Great\")\n",
    "w3 (\"Yay\", 3)\n"
   ]
  },
  {
   "cell_type": "code",
   "execution_count": null,
   "metadata": {},
   "outputs": [],
   "source": [
    "##"
   ]
  },
  {
   "cell_type": "code",
   "execution_count": 183,
   "metadata": {},
   "outputs": [
    {
     "name": "stdout",
     "output_type": "stream",
     "text": [
      "120\n"
     ]
    }
   ],
   "source": [
    "list1 = [i for i in assign_txt if i.isupper()]\n",
    "print(len(list1))"
   ]
  },
  {
   "cell_type": "markdown",
   "metadata": {},
   "source": [
    "### Tuples\n",
    "- Tuples as immutable iterables\n",
    "- Tuple methods"
   ]
  },
  {
   "cell_type": "markdown",
   "metadata": {},
   "source": [
    "#### Processing a tuple is faster than processing a list.\n",
    "#### Creating a tuple is faster than creating a list. Creating a list is slower because two memory blocks need to be accessed"
   ]
  },
  {
   "cell_type": "markdown",
   "metadata": {},
   "source": [
    "#### The reasons for having immutable types apply to tuples:\n",
    "#### copy efficiency: rather than copying an immutable object, you can alias it (bind a variable to a reference)\n",
    "#### comparison efficiency: when you're using copy-by-reference, you can compare two variables by comparing location, rather than content"
   ]
  },
  {
   "cell_type": "code",
   "execution_count": 184,
   "metadata": {},
   "outputs": [
    {
     "data": {
      "text/plain": [
       "(1, 2, 3, 4)"
      ]
     },
     "execution_count": 184,
     "metadata": {},
     "output_type": "execute_result"
    }
   ],
   "source": [
    "# t=(1,2,3,5)\n",
    "# print(t)\n",
    "\n",
    "t=(1,2,3,4)\n",
    "t"
   ]
  },
  {
   "cell_type": "code",
   "execution_count": 186,
   "metadata": {},
   "outputs": [
    {
     "data": {
      "text/plain": [
       "[1, 2, 3, 4]"
      ]
     },
     "execution_count": 186,
     "metadata": {},
     "output_type": "execute_result"
    }
   ],
   "source": [
    "list(t)"
   ]
  },
  {
   "cell_type": "code",
   "execution_count": 185,
   "metadata": {},
   "outputs": [
    {
     "ename": "TypeError",
     "evalue": "'tuple' object does not support item assignment",
     "output_type": "error",
     "traceback": [
      "\u001b[1;31m---------------------------------------------------------------------------\u001b[0m",
      "\u001b[1;31mTypeError\u001b[0m                                 Traceback (most recent call last)",
      "\u001b[1;32m<ipython-input-185-004f90058c7d>\u001b[0m in \u001b[0;36m<module>\u001b[1;34m()\u001b[0m\n\u001b[0;32m      2\u001b[0m \u001b[1;31m# print (t[1])\u001b[0m\u001b[1;33m\u001b[0m\u001b[1;33m\u001b[0m\u001b[0m\n\u001b[0;32m      3\u001b[0m \u001b[1;33m\u001b[0m\u001b[0m\n\u001b[1;32m----> 4\u001b[1;33m \u001b[0mt\u001b[0m\u001b[1;33m[\u001b[0m\u001b[1;36m0\u001b[0m\u001b[1;33m]\u001b[0m \u001b[1;33m=\u001b[0m \u001b[1;36m100\u001b[0m\u001b[1;33m\u001b[0m\u001b[0m\n\u001b[0m",
      "\u001b[1;31mTypeError\u001b[0m: 'tuple' object does not support item assignment"
     ]
    }
   ],
   "source": [
    "# print(t[0])\n",
    "# print (t[1])\n",
    "\n",
    "t[0] = 100\n"
   ]
  },
  {
   "cell_type": "code",
   "execution_count": 97,
   "metadata": {},
   "outputs": [
    {
     "name": "stdout",
     "output_type": "stream",
     "text": [
      "[0, 2, 3, 4]\n"
     ]
    }
   ],
   "source": [
    "li6=[1,2,3,4]\n",
    "li6[0]=0\n",
    "print (li6)"
   ]
  },
  {
   "cell_type": "code",
   "execution_count": 98,
   "metadata": {},
   "outputs": [
    {
     "ename": "TypeError",
     "evalue": "'tuple' object does not support item assignment",
     "output_type": "error",
     "traceback": [
      "\u001b[1;31m---------------------------------------------------------------------------\u001b[0m",
      "\u001b[1;31mTypeError\u001b[0m                                 Traceback (most recent call last)",
      "\u001b[1;32m<ipython-input-98-525eef5334c1>\u001b[0m in \u001b[0;36m<module>\u001b[1;34m()\u001b[0m\n\u001b[1;32m----> 1\u001b[1;33m \u001b[0mt\u001b[0m\u001b[1;33m[\u001b[0m\u001b[1;36m0\u001b[0m\u001b[1;33m]\u001b[0m\u001b[1;33m=\u001b[0m\u001b[1;36m0\u001b[0m\u001b[1;33m\u001b[0m\u001b[0m\n\u001b[0m",
      "\u001b[1;31mTypeError\u001b[0m: 'tuple' object does not support item assignment"
     ]
    }
   ],
   "source": [
    "# t[0]=0\n",
    "\n"
   ]
  },
  {
   "cell_type": "code",
   "execution_count": 104,
   "metadata": {},
   "outputs": [
    {
     "name": "stdout",
     "output_type": "stream",
     "text": [
      "['__add__', '__class__', '__contains__', '__delattr__', '__dir__', '__doc__', '__eq__', '__format__', '__ge__', '__getattribute__', '__getitem__', '__getnewargs__', '__gt__', '__hash__', '__init__', '__init_subclass__', '__iter__', '__le__', '__len__', '__lt__', '__mul__', '__ne__', '__new__', '__reduce__', '__reduce_ex__', '__repr__', '__rmul__', '__setattr__', '__sizeof__', '__str__', '__subclasshook__', 'count', 'index']\n"
     ]
    }
   ],
   "source": [
    "# ## dir() - shows list of methods, fns and attributes that \n",
    "# ## is used on specific objects\n",
    "# print (dir(t))\n",
    "\n"
   ]
  },
  {
   "cell_type": "code",
   "execution_count": null,
   "metadata": {},
   "outputs": [],
   "source": [
    "##"
   ]
  },
  {
   "cell_type": "markdown",
   "metadata": {},
   "source": [
    "### Dictionaries\n",
    "\n",
    "- Extracting keys, values\n",
    "- Sorting  a dictionary\n",
    "- Looping through a dictionary"
   ]
  },
  {
   "cell_type": "code",
   "execution_count": 187,
   "metadata": {},
   "outputs": [
    {
     "data": {
      "text/plain": [
       "40000"
      ]
     },
     "execution_count": 187,
     "metadata": {},
     "output_type": "execute_result"
    }
   ],
   "source": [
    "Income = [30000,40000,25000]\n",
    "name = [\"Umesh\", \"Ramesh\",\"Nilesh\"]\n",
    "in_r = name.index('Ramesh')\n",
    "in_r\n",
    "Income[in_r]\n",
    "## roundabout way"
   ]
  },
  {
   "cell_type": "code",
   "execution_count": 189,
   "metadata": {
    "scrolled": true
   },
   "outputs": [
    {
     "data": {
      "text/plain": [
       "{'Umesh': 30000, 'Ramesh': 40000, 'Nilesh': 25000}"
      ]
     },
     "execution_count": 189,
     "metadata": {},
     "output_type": "execute_result"
    }
   ],
   "source": [
    "# ## easier way - create dict\n",
    "# #Dictionary - key:value pairs\n",
    "\n",
    "# Inc = {\"Umesh\":30000,\"Ramesh\":40000,\"Nilesh\":25000}\n",
    "# print(Inc)\n",
    "\n",
    "Inc = {\"Umesh\":30000, \"Ramesh\":40000, \"Nilesh\":25000}\n",
    "Inc"
   ]
  },
  {
   "cell_type": "code",
   "execution_count": 190,
   "metadata": {},
   "outputs": [
    {
     "data": {
      "text/plain": [
       "30000"
      ]
     },
     "execution_count": 190,
     "metadata": {},
     "output_type": "execute_result"
    }
   ],
   "source": [
    "# #dict_name[key]\n",
    "\n",
    "# print(Inc[\"Umesh\"])\n",
    "\n",
    "Inc['Umesh']"
   ]
  },
  {
   "cell_type": "code",
   "execution_count": 194,
   "metadata": {},
   "outputs": [
    {
     "name": "stdout",
     "output_type": "stream",
     "text": [
      "dict_keys(['Umesh', 'Ramesh', 'Nilesh'])\n",
      "dict_values([30000, 40000, 25000])\n"
     ]
    }
   ],
   "source": [
    "# #Print keys in Inc\n",
    "\n",
    "# print(Inc.keys()) ## all unique keys in dict\n",
    "# print(Inc.values()) ## all unique values in dict\n",
    "\n",
    "print(Inc.keys())\n",
    "print(Inc.values())"
   ]
  },
  {
   "cell_type": "code",
   "execution_count": 196,
   "metadata": {},
   "outputs": [
    {
     "data": {
      "text/plain": [
       "False"
      ]
     },
     "execution_count": 196,
     "metadata": {},
     "output_type": "execute_result"
    }
   ],
   "source": [
    "# \"Nilesh\" in Inc\n",
    "\"Heena\" in Inc"
   ]
  },
  {
   "cell_type": "code",
   "execution_count": 199,
   "metadata": {},
   "outputs": [
    {
     "data": {
      "text/plain": [
       "{'Umesh': 30000, 'Ramesh': 40000, 'Nilesh': 35000}"
      ]
     },
     "execution_count": 199,
     "metadata": {},
     "output_type": "execute_result"
    }
   ],
   "source": [
    "# Inc[\"Nilesh\"] = 35000\n",
    "# print(Inc)\n",
    "\n",
    "Inc[\"Nilesh\"]=35000\n",
    "Inc"
   ]
  },
  {
   "cell_type": "code",
   "execution_count": 200,
   "metadata": {},
   "outputs": [
    {
     "data": {
      "text/plain": [
       "{'Umesh': 30000, 'Ramesh': 40000}"
      ]
     },
     "execution_count": 200,
     "metadata": {},
     "output_type": "execute_result"
    }
   ],
   "source": [
    "# del(Inc[\"Nilesh\"])\n",
    "del(Inc[\"Nilesh\"])\n",
    "Inc"
   ]
  },
  {
   "cell_type": "code",
   "execution_count": 121,
   "metadata": {},
   "outputs": [
    {
     "name": "stdout",
     "output_type": "stream",
     "text": [
      "{'Umesh': 30000, 'Ramesh': 40000}\n"
     ]
    }
   ],
   "source": [
    "# print(Inc)\n"
   ]
  },
  {
   "cell_type": "code",
   "execution_count": 201,
   "metadata": {},
   "outputs": [
    {
     "data": {
      "text/plain": [
       "['__class__',\n",
       " '__contains__',\n",
       " '__delattr__',\n",
       " '__delitem__',\n",
       " '__dir__',\n",
       " '__doc__',\n",
       " '__eq__',\n",
       " '__format__',\n",
       " '__ge__',\n",
       " '__getattribute__',\n",
       " '__getitem__',\n",
       " '__gt__',\n",
       " '__hash__',\n",
       " '__init__',\n",
       " '__init_subclass__',\n",
       " '__iter__',\n",
       " '__le__',\n",
       " '__len__',\n",
       " '__lt__',\n",
       " '__ne__',\n",
       " '__new__',\n",
       " '__reduce__',\n",
       " '__reduce_ex__',\n",
       " '__repr__',\n",
       " '__setattr__',\n",
       " '__setitem__',\n",
       " '__sizeof__',\n",
       " '__str__',\n",
       " '__subclasshook__',\n",
       " 'clear',\n",
       " 'copy',\n",
       " 'fromkeys',\n",
       " 'get',\n",
       " 'items',\n",
       " 'keys',\n",
       " 'pop',\n",
       " 'popitem',\n",
       " 'setdefault',\n",
       " 'update',\n",
       " 'values']"
      ]
     },
     "execution_count": 201,
     "metadata": {},
     "output_type": "execute_result"
    }
   ],
   "source": [
    "# print (dir(Inc))\n",
    "dir(Inc)"
   ]
  },
  {
   "cell_type": "code",
   "execution_count": 202,
   "metadata": {},
   "outputs": [
    {
     "data": {
      "text/plain": [
       "dict_items([('Umesh', 30000), ('Ramesh', 40000)])"
      ]
     },
     "execution_count": 202,
     "metadata": {},
     "output_type": "execute_result"
    }
   ],
   "source": [
    "# print (Inc.items()) ##key-value pairs\n",
    "\n",
    "Inc.items()"
   ]
  },
  {
   "cell_type": "code",
   "execution_count": 204,
   "metadata": {},
   "outputs": [
    {
     "data": {
      "text/plain": [
       "{'Ramesh': {'Gender': 'male', 'Income': 40000},\n",
       " 'Ana': {'Gender': 'female', 'Income': 66000},\n",
       " 'Uma': {'Gender': 'female', 'Income': 20000},\n",
       " 'Umesh': {'Gender': 'male', 'Income': 58000}}"
      ]
     },
     "execution_count": 204,
     "metadata": {},
     "output_type": "execute_result"
    }
   ],
   "source": [
    "# Dictionary of dictionaries\n",
    "Income1 = { 'Ramesh': { 'Gender':'male', 'Income':40000},\n",
    "           'Ana': { 'Gender':'female', 'Income':66000 },\n",
    "           'Uma': { 'Gender':'female', 'Income':20000 },\n",
    "           'Umesh': { 'Gender':'male', 'Income':58000 } }\n",
    "Income1"
   ]
  },
  {
   "cell_type": "code",
   "execution_count": 206,
   "metadata": {},
   "outputs": [
    {
     "data": {
      "text/plain": [
       "20000"
      ]
     },
     "execution_count": 206,
     "metadata": {},
     "output_type": "execute_result"
    }
   ],
   "source": [
    "# ## multiple level slicing\n",
    "# # Print out the Income of Ramesh\n",
    "# print(Income1['Ramesh']['Income'])\n",
    "\n",
    "# list[list index][element index]]\n",
    "Income1['Uma']['Income']"
   ]
  },
  {
   "cell_type": "code",
   "execution_count": 207,
   "metadata": {},
   "outputs": [],
   "source": [
    "# # Create sub-dictionary data\n",
    "# income2 = { 'Gender':'female', 'Income':30000 }\n",
    "\n",
    "income2 = {'Gender':'female', 'Income':30000}"
   ]
  },
  {
   "cell_type": "code",
   "execution_count": 208,
   "metadata": {},
   "outputs": [
    {
     "data": {
      "text/plain": [
       "{'Ramesh': {'Gender': 'male', 'Income': 40000},\n",
       " 'Ana': {'Gender': 'female', 'Income': 66000},\n",
       " 'Uma': {'Gender': 'female', 'Income': 20000},\n",
       " 'Umesh': {'Gender': 'male', 'Income': 58000},\n",
       " 'Seema': {'Gender': 'female', 'Income': 30000}}"
      ]
     },
     "execution_count": 208,
     "metadata": {},
     "output_type": "execute_result"
    }
   ],
   "source": [
    "# # Add data to europe under key 'italy'\n",
    "# Income1['Seema'] = income2\n",
    "# # Print\n",
    "# print(Income1)\n",
    "\n",
    "Income1['Seema'] = income2\n",
    "Income1"
   ]
  },
  {
   "cell_type": "code",
   "execution_count": null,
   "metadata": {},
   "outputs": [],
   "source": []
  },
  {
   "cell_type": "code",
   "execution_count": 219,
   "metadata": {},
   "outputs": [
    {
     "name": "stdout",
     "output_type": "stream",
     "text": [
      "Ramesh\n",
      "male\n",
      "Ana\n",
      "female\n",
      "Uma\n",
      "female\n",
      "Umesh\n",
      "male\n",
      "Seema\n",
      "female\n"
     ]
    }
   ],
   "source": [
    "# for x in Inc:\n",
    "#     print (x)\n",
    "\n",
    "for x in Income1:\n",
    "    print(x)\n",
    "    print(Income1[x]['Gender'])"
   ]
  },
  {
   "cell_type": "code",
   "execution_count": 130,
   "metadata": {},
   "outputs": [
    {
     "name": "stdout",
     "output_type": "stream",
     "text": [
      "Umesh 30000\n",
      "Ramesh 40000\n"
     ]
    }
   ],
   "source": [
    "# for x in Inc:\n",
    "#     print (x, Inc[x])\n"
   ]
  },
  {
   "cell_type": "code",
   "execution_count": 215,
   "metadata": {},
   "outputs": [
    {
     "data": {
      "text/plain": [
       "{0: 0, 1: -1, 2: -2}"
      ]
     },
     "execution_count": 215,
     "metadata": {},
     "output_type": "execute_result"
    }
   ],
   "source": [
    "# #List Comprehension on Dictionaries\n",
    "\n",
    "# pos_neg = {l:-l for l in range(3)}\n",
    "# print(pos_neg)\n",
    "# type(pos_neg)\n",
    "\n",
    "{x:-x for x in range(0,3)}\n"
   ]
  },
  {
   "cell_type": "markdown",
   "metadata": {},
   "source": [
    "### Use the assign_txt\n",
    "- Find out the occurence of each word in text string (Create a list of each word in the string, loop over this list to create a dictionary of words and their occurences"
   ]
  },
  {
   "cell_type": "code",
   "execution_count": 28,
   "metadata": {
    "collapsed": true
   },
   "outputs": [],
   "source": [
    "d={}\n",
    "for w in assign_txt.split(\" \"): # splitting the whole text on the basis of text\n",
    "    if w in d: # if the word is in the document, the add word to the dict d\n",
    "        d[w]=d[w]+1 # if the word repeats then add the count of the word +1 to the dict\n",
    "    else:\n",
    "        d[w]=1 # else keep the count of the word as 1 in the dict\n",
    "    "
   ]
  },
  {
   "cell_type": "code",
   "execution_count": 49,
   "metadata": {},
   "outputs": [],
   "source": [
    "# ## frequency count of every word in the doc\n",
    "# print (d)\n",
    "\n"
   ]
  },
  {
   "cell_type": "code",
   "execution_count": null,
   "metadata": {},
   "outputs": [],
   "source": [
    "## "
   ]
  },
  {
   "cell_type": "markdown",
   "metadata": {},
   "source": [
    "### Files\n",
    "- Reading files\n",
    "- Manipulating data in file objects\n",
    "- Writing out files"
   ]
  },
  {
   "cell_type": "code",
   "execution_count": 220,
   "metadata": {},
   "outputs": [],
   "source": [
    "# # modules interlude\n",
    "# ## this os module helps establish a connection between\n",
    "# ## OS and Python 3 env\n",
    "# import os\n",
    "# os.chdir('E:\\Python for ML')\n",
    "\n",
    "import os"
   ]
  },
  {
   "cell_type": "code",
   "execution_count": 222,
   "metadata": {},
   "outputs": [
    {
     "data": {
      "text/plain": [
       "'C:\\\\Users\\\\VK\\\\Documents\\\\Poojastuff\\\\dono\\\\Manipal-Deloitte\\\\ProgrammingInPython\\\\IntroductionToPython'"
      ]
     },
     "execution_count": 222,
     "metadata": {},
     "output_type": "execute_result"
    }
   ],
   "source": [
    "os.getcwd()\n",
    "#os.chdir(\"C://Users//VK//Documents//Poojastuff//dono//Mani\")"
   ]
  },
  {
   "cell_type": "code",
   "execution_count": 50,
   "metadata": {},
   "outputs": [],
   "source": [
    "# ## open and read a plain text file\n",
    "# f=open('tweets_assignment.txt','r') ## mode=r (w, rb)\n",
    "# fo=f.read()\n",
    "# print(type(f)) ## special file type\n",
    "# print(type(fo)) ## type becomes str after .read()\n",
    "# f.close()"
   ]
  },
  {
   "cell_type": "code",
   "execution_count": 230,
   "metadata": {},
   "outputs": [],
   "source": [
    "f = open('tweets_assignment.txt', mode='r')"
   ]
  },
  {
   "cell_type": "code",
   "execution_count": null,
   "metadata": {},
   "outputs": [],
   "source": []
  },
  {
   "cell_type": "code",
   "execution_count": 231,
   "metadata": {},
   "outputs": [],
   "source": [
    "f1 = f.read()\n",
    "#f.close()"
   ]
  },
  {
   "cell_type": "code",
   "execution_count": 37,
   "metadata": {
    "collapsed": true
   },
   "outputs": [],
   "source": [
    "# ## open and write \n",
    "# f=open('write.txt','w')\n",
    "# for dt in fo:\n",
    "#     f.write(dt+'\\n')\n",
    "# f.close()"
   ]
  },
  {
   "cell_type": "code",
   "execution_count": 234,
   "metadata": {},
   "outputs": [],
   "source": [
    "f=open('new_file.txt', mode='w')\n",
    "for x in f1:\n",
    "    f.write(x+'\\n')\n",
    "f.close()"
   ]
  },
  {
   "cell_type": "code",
   "execution_count": 39,
   "metadata": {
    "collapsed": true
   },
   "outputs": [],
   "source": [
    "# ## context manager - no need to close the file\n",
    "# with open(\"tweets_assignment.txt\",\"r\") as infile:\n",
    "#     dat=infile.read()"
   ]
  },
  {
   "cell_type": "code",
   "execution_count": null,
   "metadata": {},
   "outputs": [],
   "source": []
  },
  {
   "cell_type": "code",
   "execution_count": 233,
   "metadata": {},
   "outputs": [],
   "source": [
    "with open('tweets_assignment.txt', \"r\") as infile:\n",
    "    file_new = infile.read()"
   ]
  },
  {
   "cell_type": "code",
   "execution_count": null,
   "metadata": {},
   "outputs": [],
   "source": []
  },
  {
   "cell_type": "code",
   "execution_count": 40,
   "metadata": {},
   "outputs": [
    {
     "data": {
      "text/plain": [
       "'\"Tweet_Date\"|\"Tweet_Text\"|\"Tweet_Handle\"\\n\"Thu Dec 26 123415 0000 2013\"|\"ashdubey ratigirl FirstpostB'"
      ]
     },
     "execution_count": 40,
     "metadata": {},
     "output_type": "execute_result"
    }
   ],
   "source": [
    "# dat[0:100]\n"
   ]
  },
  {
   "cell_type": "markdown",
   "metadata": {
    "collapsed": true
   },
   "source": [
    "### end of the notebook"
   ]
  }
 ],
 "metadata": {
  "kernelspec": {
   "display_name": "Python 3",
   "language": "python",
   "name": "python3"
  },
  "language_info": {
   "codemirror_mode": {
    "name": "ipython",
    "version": 3
   },
   "file_extension": ".py",
   "mimetype": "text/x-python",
   "name": "python",
   "nbconvert_exporter": "python",
   "pygments_lexer": "ipython3",
   "version": "3.6.5"
  }
 },
 "nbformat": 4,
 "nbformat_minor": 1
}
