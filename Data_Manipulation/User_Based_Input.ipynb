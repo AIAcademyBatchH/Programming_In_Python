{
 "cells": [
  {
   "cell_type": "markdown",
   "metadata": {},
   "source": [
    "#### input ( ) : This function first takes the input from the user and then evaluates the expression, which means Python automatically identifies whether user entered a string or a number or list"
   ]
  },
  {
   "cell_type": "code",
   "execution_count": 15,
   "metadata": {},
   "outputs": [
    {
     "name": "stdout",
     "output_type": "stream",
     "text": [
      "Enter your val20\n",
      "20\n"
     ]
    }
   ],
   "source": [
    "# val = input(\"Enter your value: \")\n",
    "# print(val)\n",
    "\n",
    "val = input(\"Enter your val\")\n",
    "print(val)"
   ]
  },
  {
   "cell_type": "markdown",
   "metadata": {},
   "source": [
    "#### When input() function executes program flow will be stopped until the user has given an input. The text or message display on the output screen to ask a user to enter input value is optional i.e. the prompt, will be printed on the screen is optional. Whatever you enter as input, input function convert it into a string. if you enter an integer value still input() function convert it into a string. You need to explicitly convert it into an integer in your code using typecasting."
   ]
  },
  {
   "cell_type": "code",
   "execution_count": 17,
   "metadata": {},
   "outputs": [
    {
     "name": "stdout",
     "output_type": "stream",
     "text": [
      "enter number:56\n",
      "enter namepooja\n",
      "56\n",
      "pooja\n"
     ]
    }
   ],
   "source": [
    "# num = input (\"Enter number :\")\n",
    "# print(num)\n",
    "# name1 = input(\"Enter name : \")\n",
    "# print(name1)\n",
    "\n",
    "num = input(\"enter number:\")\n",
    "name = input(\"enter name\")\n",
    "print(num)\n",
    "print(name)"
   ]
  },
  {
   "cell_type": "code",
   "execution_count": 19,
   "metadata": {},
   "outputs": [
    {
     "data": {
      "text/plain": [
       "str"
      ]
     },
     "execution_count": 19,
     "metadata": {},
     "output_type": "execute_result"
    }
   ],
   "source": [
    "type(num)\n"
   ]
  },
  {
   "cell_type": "code",
   "execution_count": 21,
   "metadata": {},
   "outputs": [
    {
     "name": "stdout",
     "output_type": "stream",
     "text": [
      "number 1:3\n",
      "number 2:4\n",
      "7\n"
     ]
    }
   ],
   "source": [
    "# # input\n",
    "# num1 = int(input())\n",
    "# num2 = int(input())\n",
    "# print(num1 + num2)\n",
    "\n",
    "num1 = int(input('number 1:'))\n",
    "num2 = int(input('number 2:'))\n",
    "print(num1+num2)"
   ]
  },
  {
   "cell_type": "code",
   "execution_count": 23,
   "metadata": {},
   "outputs": [
    {
     "name": "stdout",
     "output_type": "stream",
     "text": [
      "Enter two values with a comma:10,11\n",
      "10\n",
      "11\n"
     ]
    }
   ],
   "source": [
    "# # taking two inputs at a time\n",
    "# x, y = input(\"Enter a two value: \").split()\n",
    "# print(\"Number of boys: \", x)\n",
    "# print(\"Number of girls: \", y)\n",
    "# print()\n",
    "\n",
    "x, y = input('Enter two values with a comma:').split(',')\n",
    "print(x)\n",
    "print(y)"
   ]
  },
  {
   "cell_type": "code",
   "execution_count": 11,
   "metadata": {},
   "outputs": [
    {
     "name": "stdout",
     "output_type": "stream",
     "text": [
      "Enter a two value: 2,3\n",
      "Number of boys:  2\n",
      "Number of girls:  3\n",
      "\n"
     ]
    }
   ],
   "source": [
    "# x, y = input(\"Enter a two value: \").split(\",\")\n",
    "# print(\"Number of boys: \", x)\n",
    "# print(\"Number of girls: \", y)\n",
    "# print()\n",
    "\n"
   ]
  }
 ],
 "metadata": {
  "kernelspec": {
   "display_name": "Python 3",
   "language": "python",
   "name": "python3"
  },
  "language_info": {
   "codemirror_mode": {
    "name": "ipython",
    "version": 3
   },
   "file_extension": ".py",
   "mimetype": "text/x-python",
   "name": "python",
   "nbconvert_exporter": "python",
   "pygments_lexer": "ipython3",
   "version": "3.6.5"
  }
 },
 "nbformat": 4,
 "nbformat_minor": 2
}
