{
 "cells": [
  {
   "cell_type": "markdown",
   "metadata": {},
   "source": [
    "# Python Data Structures\n",
    "- Ints and floats\n",
    "- Str\n",
    "- Lists\n",
    "- Tuples\n",
    "- Dictionaries\n",
    "- Files"
   ]
  },
  {
   "cell_type": "markdown",
   "metadata": {},
   "source": [
    "### Ints and Floats\n",
    "- Depending upon the version of python use of behaviour of ints and floats can differ, we will be using python 3.6"
   ]
  },
  {
   "cell_type": "code",
   "execution_count": 48,
   "metadata": {},
   "outputs": [],
   "source": [
    "# # #Declare a variable \n",
    "# # Call up Value \n",
    "# #Rs.50000 - 25 years\n",
    "# #Variable is specific and case sensitive\n",
    "\n",
    "\n"
   ]
  },
  {
   "cell_type": "code",
   "execution_count": 1,
   "metadata": {},
   "outputs": [
    {
     "name": "stdout",
     "output_type": "stream",
     "text": [
      "50000\n"
     ]
    }
   ],
   "source": [
    "income=50000 \n",
    "print(income)\n"
   ]
  },
  {
   "cell_type": "code",
   "execution_count": 2,
   "metadata": {},
   "outputs": [
    {
     "name": "stdout",
     "output_type": "stream",
     "text": [
      "25.5\n"
     ]
    }
   ],
   "source": [
    "Age= 25.5\n",
    "print (Age)\n"
   ]
  },
  {
   "cell_type": "code",
   "execution_count": 2,
   "metadata": {},
   "outputs": [
    {
     "name": "stdout",
     "output_type": "stream",
     "text": [
      "<class 'int'>\n",
      "<class 'float'>\n"
     ]
    }
   ],
   "source": [
    "# We can know the class of the object by using the type() method\n",
    "print (type(income))\n",
    "print (type(Age))\n"
   ]
  },
  {
   "cell_type": "code",
   "execution_count": 3,
   "metadata": {},
   "outputs": [
    {
     "name": "stdout",
     "output_type": "stream",
     "text": [
      "62500.0\n",
      "<class 'float'>\n"
     ]
    }
   ],
   "source": [
    "# #Variables make code Reproducible\n",
    "Income1=50000\n",
    "Income2=75000\n",
    "Avg = ((Income1+Income2)/2)\n",
    "print(Avg)\n",
    "print(type(Avg))"
   ]
  },
  {
   "cell_type": "code",
   "execution_count": 5,
   "metadata": {},
   "outputs": [
    {
     "name": "stdout",
     "output_type": "stream",
     "text": [
      "0.6666666666666666\n",
      "<class 'float'>\n"
     ]
    }
   ],
   "source": [
    "print (float(Income1)/Income2)\n",
    "print (type(floaat(Income1)/Income2))\n"
   ]
  },
  {
   "cell_type": "code",
   "execution_count": null,
   "metadata": {},
   "outputs": [],
   "source": [
    "##"
   ]
  },
  {
   "cell_type": "markdown",
   "metadata": {},
   "source": [
    "# Strings and Booleans\n",
    "\n"
   ]
  },
  {
   "cell_type": "code",
   "execution_count": 6,
   "metadata": {},
   "outputs": [
    {
     "name": "stdout",
     "output_type": "stream",
     "text": [
      "<class 'str'>\n"
     ]
    }
   ],
   "source": [
    "Course = \"Data Science with Python\"\n",
    "print(type(Course))\n"
   ]
  },
  {
   "cell_type": "code",
   "execution_count": 7,
   "metadata": {},
   "outputs": [
    {
     "name": "stdout",
     "output_type": "stream",
     "text": [
      "<class 'bool'>\n"
     ]
    }
   ],
   "source": [
    "Learning = True\n",
    "print(type(Learning))\n"
   ]
  },
  {
   "cell_type": "markdown",
   "metadata": {},
   "source": [
    "#### '+' operator behaves differently for str and int"
   ]
  },
  {
   "cell_type": "code",
   "execution_count": 9,
   "metadata": {},
   "outputs": [
    {
     "data": {
      "text/plain": [
       "11"
      ]
     },
     "execution_count": 9,
     "metadata": {},
     "output_type": "execute_result"
    }
   ],
   "source": [
    "3+8\n"
   ]
  },
  {
   "cell_type": "code",
   "execution_count": 10,
   "metadata": {
    "scrolled": true
   },
   "outputs": [
    {
     "data": {
      "text/plain": [
       "'DataScience'"
      ]
     },
     "execution_count": 10,
     "metadata": {},
     "output_type": "execute_result"
    }
   ],
   "source": [
    "'Data' + 'Science'\n"
   ]
  },
  {
   "cell_type": "code",
   "execution_count": 11,
   "metadata": {},
   "outputs": [
    {
     "name": "stdout",
     "output_type": "stream",
     "text": [
      "3\n",
      "111\n"
     ]
    }
   ],
   "source": [
    "#the + operator concatenates strings together, while the * concatenates multiple copies of a string together.\n",
    "sample2 = 1 * 3\n",
    "sample3 = \"1\" * 3\n",
    "print(sample2)\n",
    "print(sample3)"
   ]
  },
  {
   "cell_type": "markdown",
   "metadata": {
    "collapsed": true
   },
   "source": [
    "#### Different Types behave differents. Plus works differently on a integer vs. a string"
   ]
  },
  {
   "cell_type": "markdown",
   "metadata": {},
   "source": [
    "#### only objects of same class can be concatenated"
   ]
  },
  {
   "cell_type": "code",
   "execution_count": 14,
   "metadata": {},
   "outputs": [
    {
     "ename": "TypeError",
     "evalue": "must be str, not int",
     "output_type": "error",
     "traceback": [
      "\u001b[1;31m---------------------------------------------------------------------------\u001b[0m",
      "\u001b[1;31mTypeError\u001b[0m                                 Traceback (most recent call last)",
      "\u001b[1;32m<ipython-input-14-d6fcc1eabc98>\u001b[0m in \u001b[0;36m<module>\u001b[1;34m()\u001b[0m\n\u001b[1;32m----> 1\u001b[1;33m \u001b[0mprint\u001b[0m\u001b[1;33m(\u001b[0m\u001b[1;34m\"Sumit started with income of Rs.\"\u001b[0m \u001b[1;33m+\u001b[0m \u001b[0mIncome1\u001b[0m \u001b[1;33m+\u001b[0m \u001b[1;34m\". Gradually it was increased to Rs.\"\u001b[0m \u001b[1;33m+\u001b[0m \u001b[0mIncome2\u001b[0m\u001b[1;33m)\u001b[0m\u001b[1;33m\u001b[0m\u001b[0m\n\u001b[0m",
      "\u001b[1;31mTypeError\u001b[0m: must be str, not int"
     ]
    }
   ],
   "source": [
    "print(\"Sumit started with income of Rs.\" + Income1 + \". Gradually it was increased to Rs.\" + Income2)"
   ]
  },
  {
   "cell_type": "code",
   "execution_count": 15,
   "metadata": {},
   "outputs": [
    {
     "name": "stdout",
     "output_type": "stream",
     "text": [
      "Sumit started with income of Rs.50000. Gradually it was increased to Rs.75000. Great!\n"
     ]
    }
   ],
   "source": [
    "print(\"Sumit started with income of Rs.\" + str(Income1) + \". Gradually it was increased to Rs.\" + str(Income2) + (\". Great!\"))"
   ]
  },
  {
   "cell_type": "code",
   "execution_count": null,
   "metadata": {},
   "outputs": [],
   "source": [
    "##"
   ]
  },
  {
   "cell_type": "code",
   "execution_count": 16,
   "metadata": {},
   "outputs": [
    {
     "data": {
      "text/plain": [
       "str"
      ]
     },
     "execution_count": 16,
     "metadata": {},
     "output_type": "execute_result"
    }
   ],
   "source": [
    "Income = \"10000\"\n",
    "type(Income)\n"
   ]
  },
  {
   "cell_type": "code",
   "execution_count": 17,
   "metadata": {},
   "outputs": [
    {
     "data": {
      "text/plain": [
       "10000"
      ]
     },
     "execution_count": 17,
     "metadata": {},
     "output_type": "execute_result"
    }
   ],
   "source": [
    "NIncome = int(Income)\n",
    "NIncome\n"
   ]
  },
  {
   "cell_type": "code",
   "execution_count": null,
   "metadata": {},
   "outputs": [],
   "source": [
    "##"
   ]
  },
  {
   "cell_type": "markdown",
   "metadata": {},
   "source": [
    "# Lists\n"
   ]
  },
  {
   "cell_type": "code",
   "execution_count": 18,
   "metadata": {},
   "outputs": [
    {
     "name": "stdout",
     "output_type": "stream",
     "text": [
      "[50000, 75000, 65000, 45000, 25000]\n"
     ]
    }
   ],
   "source": [
    "#Income of a certain group\n",
    "\n",
    "Income1 = 50000\n",
    "Income2 = 75000\n",
    "Income3 = 65000\n",
    "Income4 = 45000\n",
    "Income5 = 25000\n"
   ]
  },
  {
   "cell_type": "code",
   "execution_count": null,
   "metadata": {},
   "outputs": [],
   "source": [
    "Income = [Income1, Income2, Income3, Income4, Income5]\n",
    "print(Income)\n"
   ]
  },
  {
   "cell_type": "code",
   "execution_count": 19,
   "metadata": {},
   "outputs": [
    {
     "data": {
      "text/plain": [
       "['Sumit', 50000, 'Amit', 75000, 'Tina', 65000, 'Heena', 45000, 'Reena', 25000]"
      ]
     },
     "execution_count": 19,
     "metadata": {},
     "output_type": "execute_result"
    }
   ],
   "source": [
    "Income = [\"Sumit\",50000,\"Amit\",75000,\"Tina\",65000,\"Heena\",45000,\"Reena\",25000]\n",
    "Income"
   ]
  },
  {
   "cell_type": "code",
   "execution_count": 20,
   "metadata": {},
   "outputs": [
    {
     "data": {
      "text/plain": [
       "[['Sumit', 50000],\n",
       " ['Amit', 75000],\n",
       " ['Tina', 65000],\n",
       " ['Heena', 45000],\n",
       " ['Reena', 25000]]"
      ]
     },
     "execution_count": 20,
     "metadata": {},
     "output_type": "execute_result"
    }
   ],
   "source": [
    "#Lists can also contain Lists themselves\n",
    "#Instead of putting strings between the number one can create sublists for each Income entry \n",
    "\n",
    "Income2 = [['Sumit',50000],\n",
    "['Amit',75000],\n",
    "['Tina',65000],\n",
    "['Heena',45000],\n",
    "['Reena',25000]]\n",
    "\n",
    "Income2 #The main list contains 5 sub lists\n"
   ]
  },
  {
   "cell_type": "code",
   "execution_count": 21,
   "metadata": {},
   "outputs": [
    {
     "data": {
      "text/plain": [
       "list"
      ]
     },
     "execution_count": 21,
     "metadata": {},
     "output_type": "execute_result"
    }
   ],
   "source": [
    "type(Income)\n",
    "type(Income2)\n"
   ]
  },
  {
   "cell_type": "code",
   "execution_count": 22,
   "metadata": {},
   "outputs": [
    {
     "data": {
      "text/plain": [
       "65000"
      ]
     },
     "execution_count": 22,
     "metadata": {},
     "output_type": "execute_result"
    }
   ],
   "source": [
    "# Accessing Information from a List - Use Index\n",
    "\n",
    "#Zero Based Indexing"
   ]
  },
  {
   "cell_type": "code",
   "execution_count": null,
   "metadata": {},
   "outputs": [],
   "source": [
    "Income[5] #to access Income corresponding to Tina\n"
   ]
  },
  {
   "cell_type": "code",
   "execution_count": 23,
   "metadata": {},
   "outputs": [
    {
     "data": {
      "text/plain": [
       "['Sumit', 50000, 'Amit', 75000, 'Tina', 65000, 'Heena', 45000, 'Reena', 25000]"
      ]
     },
     "execution_count": 23,
     "metadata": {},
     "output_type": "execute_result"
    }
   ],
   "source": [
    "Income"
   ]
  },
  {
   "cell_type": "code",
   "execution_count": 30,
   "metadata": {},
   "outputs": [
    {
     "name": "stdout",
     "output_type": "stream",
     "text": [
      "['Amit', 75000, 'Tina', 65000]\n",
      "['Sumit', 50000, 'Amit', 75000, 'Tina', 65000, 'Heena', 45000, 'Reena', 25000]\n",
      "['Amit', 75000, 'Tina', 65000, 'Heena', 45000, 'Reena', 25000]\n",
      "['Sumit', 50000]\n"
     ]
    },
    {
     "data": {
      "text/plain": [
       "125000"
      ]
     },
     "execution_count": 30,
     "metadata": {},
     "output_type": "execute_result"
    }
   ],
   "source": [
    "#Slicing using :\n",
    "\n",
    "#[start:end] --> [inclusive:exclusive]\n",
    "\n",
    "print(Income[2:6])\n",
    "print(Income[:])\n",
    "print(Income[2:])\n",
    "print(Income[:2])"
   ]
  },
  {
   "cell_type": "code",
   "execution_count": null,
   "metadata": {},
   "outputs": [],
   "source": [
    "# #Income of males \n",
    "# Income[1] + Income[3]\n"
   ]
  },
  {
   "cell_type": "code",
   "execution_count": 20,
   "metadata": {},
   "outputs": [
    {
     "data": {
      "text/plain": [
       "135000"
      ]
     },
     "execution_count": 20,
     "metadata": {},
     "output_type": "execute_result"
    }
   ],
   "source": [
    "#Income of females\n",
    "Income[-1] + Income[-3] + Income[-5]\n"
   ]
  },
  {
   "cell_type": "code",
   "execution_count": 24,
   "metadata": {},
   "outputs": [
    {
     "data": {
      "text/plain": [
       "[['Sumit', 50000],\n",
       " ['Amit', 75000],\n",
       " ['Tina', 65000],\n",
       " ['Heena', 45000],\n",
       " ['Reena', 25000]]"
      ]
     },
     "execution_count": 24,
     "metadata": {},
     "output_type": "execute_result"
    }
   ],
   "source": [
    "Income2"
   ]
  },
  {
   "cell_type": "code",
   "execution_count": 29,
   "metadata": {},
   "outputs": [
    {
     "data": {
      "text/plain": [
       "['Tina', 65000]"
      ]
     },
     "execution_count": 29,
     "metadata": {},
     "output_type": "execute_result"
    }
   ],
   "source": [
    "Income2[2][:]  #Accessing all elements from list of list\n"
   ]
  },
  {
   "cell_type": "code",
   "execution_count": null,
   "metadata": {},
   "outputs": [],
   "source": [
    "##"
   ]
  },
  {
   "cell_type": "code",
   "execution_count": 30,
   "metadata": {},
   "outputs": [
    {
     "data": {
      "text/plain": [
       "['Sumit', 50000, 'Amit', 75000, 'Tina', 65000, 'Heena', 45000, 'Reena', 25000]"
      ]
     },
     "execution_count": 30,
     "metadata": {},
     "output_type": "execute_result"
    }
   ],
   "source": [
    "Income"
   ]
  },
  {
   "cell_type": "code",
   "execution_count": 31,
   "metadata": {},
   "outputs": [
    {
     "data": {
      "text/plain": [
       "['Sumit', 55000, 'Amit', 75000, 'Tina', 65000, 'Heena', 45000, 'Reena', 25000]"
      ]
     },
     "execution_count": 31,
     "metadata": {},
     "output_type": "execute_result"
    }
   ],
   "source": [
    "#List Manipulations\n",
    "Income[1] = 55000 #Change\n",
    "Income\n"
   ]
  },
  {
   "cell_type": "code",
   "execution_count": 32,
   "metadata": {},
   "outputs": [
    {
     "data": {
      "text/plain": [
       "['Likhit', 60000, 'Amit', 75000, 'Tina', 65000, 'Heena', 45000, 'Reena', 25000]"
      ]
     },
     "execution_count": 32,
     "metadata": {},
     "output_type": "execute_result"
    }
   ],
   "source": [
    "\n",
    "Income[0:2] = ['Likhit',60000]  #Replacing elements\n",
    "Income\n"
   ]
  },
  {
   "cell_type": "code",
   "execution_count": 33,
   "metadata": {},
   "outputs": [
    {
     "data": {
      "text/plain": [
       "['Likhit',\n",
       " 60000,\n",
       " 'Amit',\n",
       " 75000,\n",
       " 'Tina',\n",
       " 65000,\n",
       " 'Heena',\n",
       " 45000,\n",
       " 'Reena',\n",
       " 25000,\n",
       " 'Sumit',\n",
       " 50000]"
      ]
     },
     "execution_count": 33,
     "metadata": {},
     "output_type": "execute_result"
    }
   ],
   "source": [
    "Income_add = Income + ['Sumit',50000] #Adding elements\n",
    "Income_add\n"
   ]
  },
  {
   "cell_type": "code",
   "execution_count": 34,
   "metadata": {},
   "outputs": [
    {
     "data": {
      "text/plain": [
       "['Amit', 75000, 'Tina', 65000, 'Heena', 45000, 'Reena', 25000, 'Sumit', 50000]"
      ]
     },
     "execution_count": 34,
     "metadata": {},
     "output_type": "execute_result"
    }
   ],
   "source": [
    "del(Income_add[0:2])  #Deleting an element\n",
    "Income_add\n"
   ]
  },
  {
   "cell_type": "code",
   "execution_count": 26,
   "metadata": {},
   "outputs": [
    {
     "data": {
      "text/plain": [
       "[11, 18, 20, 10, 9]"
      ]
     },
     "execution_count": 26,
     "metadata": {},
     "output_type": "execute_result"
    }
   ],
   "source": [
    "# Create list Age\n",
    "age = [11, 18, 20, 10, 9]\n"
   ]
  },
  {
   "cell_type": "code",
   "execution_count": null,
   "metadata": {},
   "outputs": [],
   "source": [
    "age_new = age\n",
    "age_new\n"
   ]
  },
  {
   "cell_type": "code",
   "execution_count": 27,
   "metadata": {},
   "outputs": [
    {
     "data": {
      "text/plain": [
       "[11, 24, 20, 10, 9]"
      ]
     },
     "execution_count": 27,
     "metadata": {},
     "output_type": "execute_result"
    }
   ],
   "source": [
    "age_new[1] = 24\n",
    "age_new\n"
   ]
  },
  {
   "cell_type": "code",
   "execution_count": 28,
   "metadata": {},
   "outputs": [
    {
     "data": {
      "text/plain": [
       "[11, 24, 20, 10, 9]"
      ]
     },
     "execution_count": 28,
     "metadata": {},
     "output_type": "execute_result"
    }
   ],
   "source": [
    "age   #Why is this happening?\n"
   ]
  },
  {
   "cell_type": "code",
   "execution_count": 29,
   "metadata": {},
   "outputs": [
    {
     "data": {
      "text/plain": [
       "[11, 24, 20, 10, 9]"
      ]
     },
     "execution_count": 29,
     "metadata": {},
     "output_type": "execute_result"
    }
   ],
   "source": [
    "age_new \n"
   ]
  },
  {
   "cell_type": "code",
   "execution_count": null,
   "metadata": {},
   "outputs": [],
   "source": [
    "##"
   ]
  },
  {
   "cell_type": "code",
   "execution_count": 30,
   "metadata": {},
   "outputs": [
    {
     "data": {
      "text/plain": [
       "[11, 24, 20, 10, 9]"
      ]
     },
     "execution_count": 30,
     "metadata": {},
     "output_type": "execute_result"
    }
   ],
   "source": [
    "age_final = age_new.copy()\n",
    "age_final\n"
   ]
  },
  {
   "cell_type": "code",
   "execution_count": 31,
   "metadata": {},
   "outputs": [
    {
     "data": {
      "text/plain": [
       "[11, 32, 20, 10, 9]"
      ]
     },
     "execution_count": 31,
     "metadata": {},
     "output_type": "execute_result"
    }
   ],
   "source": [
    "age_final[1] = 32\n",
    "age_final\n"
   ]
  },
  {
   "cell_type": "code",
   "execution_count": 32,
   "metadata": {},
   "outputs": [
    {
     "data": {
      "text/plain": [
       "[11, 24, 20, 10, 9]"
      ]
     },
     "execution_count": 32,
     "metadata": {},
     "output_type": "execute_result"
    }
   ],
   "source": [
    "age_new\n"
   ]
  },
  {
   "cell_type": "code",
   "execution_count": 33,
   "metadata": {},
   "outputs": [
    {
     "name": "stdout",
     "output_type": "stream",
     "text": [
      "[11, 24, 20, 10, 9]\n",
      "[11, 32, 20, 10, 9]\n",
      "[11, 24, 20, 10, 9]\n"
     ]
    }
   ],
   "source": [
    "age_final = age_new[:]\n",
    "print(age_final)\n",
    "age_final[1] = 32\n",
    "print(age_final)\n",
    "print(age_new)"
   ]
  },
  {
   "cell_type": "code",
   "execution_count": null,
   "metadata": {},
   "outputs": [],
   "source": [
    "##"
   ]
  },
  {
   "cell_type": "code",
   "execution_count": 37,
   "metadata": {},
   "outputs": [
    {
     "name": "stdout",
     "output_type": "stream",
     "text": [
      "<class 'float'>\n",
      "8\n"
     ]
    },
    {
     "data": {
      "text/plain": [
       "1"
      ]
     },
     "execution_count": 37,
     "metadata": {},
     "output_type": "execute_result"
    }
   ],
   "source": [
    "#Functions in Python\n",
    "\n",
    "Python = True\n",
    "\n",
    "# Print out type of var\n",
    "print(type(Age))\n"
   ]
  },
  {
   "cell_type": "code",
   "execution_count": null,
   "metadata": {},
   "outputs": [],
   "source": [
    "# Print out length of var\n",
    "print(len(Income))\n"
   ]
  },
  {
   "cell_type": "code",
   "execution_count": null,
   "metadata": {},
   "outputs": [],
   "source": [
    "\n",
    "# Convert var to an integer: out2\n",
    "IntPy = int(Python)\n",
    "IntPy\n"
   ]
  },
  {
   "cell_type": "code",
   "execution_count": 38,
   "metadata": {
    "scrolled": true
   },
   "outputs": [
    {
     "name": "stdout",
     "output_type": "stream",
     "text": [
      "[25, 65, 34, 44, 10, 50]\n",
      "[10, 25, 34, 44, 50, 65]\n",
      "[65, 50, 44, 34, 25, 10]\n"
     ]
    }
   ],
   "source": [
    "# # Create lists \n",
    "Age1 = [25,65,34,44]\n",
    "Age2 = [10,50]\n"
   ]
  },
  {
   "cell_type": "code",
   "execution_count": null,
   "metadata": {},
   "outputs": [],
   "source": [
    "# Paste together \n",
    "Age_f = Age1 + Age2\n",
    "print(Age_f)\n"
   ]
  },
  {
   "cell_type": "code",
   "execution_count": null,
   "metadata": {},
   "outputs": [],
   "source": [
    "# Sort in descending order\n",
    "Age_full = sorted(Age_f)\n",
    "Age_FULL = sorted(Age_f, reverse = True)\n",
    "# Print out full_sorted\n",
    "print(Age_full)\n",
    "print(Age_FULL)\n"
   ]
  },
  {
   "cell_type": "code",
   "execution_count": 37,
   "metadata": {},
   "outputs": [
    {
     "name": "stdout",
     "output_type": "stream",
     "text": [
      "Help on built-in function sorted in module builtins:\n",
      "\n",
      "sorted(iterable, /, *, key=None, reverse=False)\n",
      "    Return a new list containing all items from the iterable in ascending order.\n",
      "    \n",
      "    A custom key function can be supplied to customize the sort order, and the\n",
      "    reverse flag can be set to request the result in descending order.\n",
      "\n"
     ]
    }
   ],
   "source": [
    "## to get documentation of functions\n",
    "help(sorted)\n"
   ]
  },
  {
   "cell_type": "markdown",
   "metadata": {},
   "source": [
    "#### help function is quite handy for knowing how different functions operate in python"
   ]
  },
  {
   "cell_type": "code",
   "execution_count": null,
   "metadata": {},
   "outputs": [],
   "source": [
    "##"
   ]
  },
  {
   "cell_type": "markdown",
   "metadata": {},
   "source": [
    "# Methods"
   ]
  },
  {
   "cell_type": "code",
   "execution_count": 36,
   "metadata": {},
   "outputs": [
    {
     "data": {
      "text/plain": [
       "['Likhit', 60000, 'Amit', 75000, 'Tina', 65000, 'Heena', 45000, 'Reena', 25000]"
      ]
     },
     "execution_count": 36,
     "metadata": {},
     "output_type": "execute_result"
    }
   ],
   "source": [
    "Income"
   ]
  },
  {
   "cell_type": "code",
   "execution_count": 38,
   "metadata": {},
   "outputs": [
    {
     "data": {
      "text/plain": [
       "4"
      ]
     },
     "execution_count": 38,
     "metadata": {},
     "output_type": "execute_result"
    }
   ],
   "source": [
    "Income.index('Heena')      #Index is a method\n"
   ]
  },
  {
   "cell_type": "code",
   "execution_count": 39,
   "metadata": {},
   "outputs": [
    {
     "name": "stdout",
     "output_type": "stream",
     "text": [
      "PYTHON\n",
      "python course\n"
     ]
    }
   ],
   "source": [
    "Word = \"python\"\n",
    "print(Word.upper())\n",
    "print(Word.replace(\"n\",\"n course\"))\n",
    "\n"
   ]
  },
  {
   "cell_type": "code",
   "execution_count": 40,
   "metadata": {},
   "outputs": [
    {
     "ename": "AttributeError",
     "evalue": "'list' object has no attribute 'replace'",
     "output_type": "error",
     "traceback": [
      "\u001b[1;31m---------------------------------------------------------------------------\u001b[0m",
      "\u001b[1;31mAttributeError\u001b[0m                            Traceback (most recent call last)",
      "\u001b[1;32m<ipython-input-40-3896fe93113f>\u001b[0m in \u001b[0;36m<module>\u001b[1;34m()\u001b[0m\n\u001b[1;32m----> 1\u001b[1;33m \u001b[0mIncome\u001b[0m\u001b[1;33m.\u001b[0m\u001b[0mreplace\u001b[0m\u001b[1;33m(\u001b[0m\u001b[1;36m50000\u001b[0m\u001b[1;33m,\u001b[0m\u001b[1;36m45000\u001b[0m\u001b[1;33m)\u001b[0m      \u001b[1;31m#replace is not a method for num/int/float objects\u001b[0m\u001b[1;33m\u001b[0m\u001b[0m\n\u001b[0m",
      "\u001b[1;31mAttributeError\u001b[0m: 'list' object has no attribute 'replace'"
     ]
    }
   ],
   "source": [
    "Income.replace(50000,45000)      #replace is not a method for num/int/float objects\n"
   ]
  },
  {
   "cell_type": "code",
   "execution_count": 41,
   "metadata": {},
   "outputs": [
    {
     "data": {
      "text/plain": [
       "5"
      ]
     },
     "execution_count": 41,
     "metadata": {},
     "output_type": "execute_result"
    }
   ],
   "source": [
    "Income.index(45000)\n"
   ]
  },
  {
   "cell_type": "code",
   "execution_count": 42,
   "metadata": {},
   "outputs": [
    {
     "data": {
      "text/plain": [
       "2"
      ]
     },
     "execution_count": 42,
     "metadata": {},
     "output_type": "execute_result"
    }
   ],
   "source": [
    "Word.index('t')\n"
   ]
  },
  {
   "cell_type": "code",
   "execution_count": 43,
   "metadata": {},
   "outputs": [
    {
     "data": {
      "text/plain": [
       "['Amit', 75000, 'Tina', 65000, 'Heena', 45000, 'Reena', 25000, 'Raina']"
      ]
     },
     "execution_count": 43,
     "metadata": {},
     "output_type": "execute_result"
    }
   ],
   "source": [
    "Income.append(\"Raina\")\n",
    "Income\n"
   ]
  },
  {
   "cell_type": "code",
   "execution_count": 44,
   "metadata": {},
   "outputs": [
    {
     "name": "stdout",
     "output_type": "stream",
     "text": [
      "2\n"
     ]
    }
   ],
   "source": [
    "Sample = \"Beautiful\"\n",
    "print(Sample.count(\"u\"))\n"
   ]
  },
  {
   "cell_type": "code",
   "execution_count": 45,
   "metadata": {},
   "outputs": [
    {
     "name": "stdout",
     "output_type": "stream",
     "text": [
      "1\n"
     ]
    }
   ],
   "source": [
    "# Print out how often 25000 appears in Income\n",
    "print(Income.count(25000))\n",
    "\n"
   ]
  },
  {
   "cell_type": "code",
   "execution_count": 40,
   "metadata": {},
   "outputs": [
    {
     "name": "stdout",
     "output_type": "stream",
     "text": [
      "range(0, 11)\n",
      "[0, 1, 2, 3, 4, 5, 6, 7, 8, 9, 10]\n"
     ]
    }
   ],
   "source": [
    "c=range(11)\n",
    "print(c)\n",
    "\n",
    "## to access elements in the range they should be specified\n",
    "## in a list using list() on the object c\n",
    "print (list(c))\n",
    "\n"
   ]
  },
  {
   "cell_type": "code",
   "execution_count": null,
   "metadata": {},
   "outputs": [],
   "source": [
    "##"
   ]
  },
  {
   "cell_type": "markdown",
   "metadata": {},
   "source": [
    "### Looping and conditionals interlude\n",
    "- Using for loops and if-else statements\n"
   ]
  },
  {
   "cell_type": "code",
   "execution_count": 33,
   "metadata": {},
   "outputs": [
    {
     "name": "stdout",
     "output_type": "stream",
     "text": [
      "Yay!!\n"
     ]
    }
   ],
   "source": [
    "# We can control the flow of execution of code by using conditionals such as if-else\n",
    "if 2>3: #Notice that a statement is followed by a :\n",
    "    print ('Is it possible?')\n",
    "    \n",
    "else:\n",
    "    print ('Yay!!')"
   ]
  },
  {
   "cell_type": "code",
   "execution_count": null,
   "metadata": {},
   "outputs": [],
   "source": []
  },
  {
   "cell_type": "markdown",
   "metadata": {},
   "source": [
    "### Case Study\n",
    "- Use the assign_txt\n",
    "- Count number of capital letters\n",
    "- How many times has the word RSS occured?\n",
    "- How many times has the word Modi occured?"
   ]
  },
  {
   "cell_type": "code",
   "execution_count": 14,
   "metadata": {
    "collapsed": true
   },
   "outputs": [],
   "source": [
    "assign_txt=\"Narendra Damodardas Modi, born 17 September 1950) is the 15th and current Prime Minister of India, in office since 26 May 2014.odi, a leader of the Bharatiya Janata Party was the Chief Minister of Gujarat from 2001 to 2014 and is the Member of Parliament from Varanasi. He led the BJP in the 2014 general election, which gave the party a majority in the Lok Sabha, the first for any political party in India since 1984.As the Chief Minister of Gujarat, Modi's economic policies were praised, while his administration was also criticised for failing to significantly improve the human development in the state, and for failing to prevent the 2002 Gujarat riots. A Hindu nationalist and member of the Rashtriya Swayamsevak Sangh, Modi,remains a controversial figure domestically and internationally. Modi was born on 17 September 1950, to a family of grocers in Vadnagar, Mehsana district, Bombay State (present-day Gujarat).Modi's family belonged to the Modh-Ghanchi-Teli (oil-presser) community,hich is categorised as an Other Backward Class by the Indian government.Modi was the third of six children born to Damodardas Mulchand (1915–1989) and Heeraben Modi (b. c. 1920).As a child, Modi helped his father sell tea at the Vadnagar railway station, and later ran a tea stall with his brother near a bus terminus.Modi completed his higher secondary education in Vadnagar in 1967, where a teacher described him as an average student and a keen debater, with an interest in theatre.Modi had an early gift for rhetoric in debates, and this was noted by his teachers and students.Modi preferred playing larger-than-life characters in theatrical productions, which has influenced his political image.At age eight, Modi discovered the Rashtriya Swayamsevak Sangh (RSS), and began attending its local shakhas (training sessions). There, Modi met Lakshmanrao Inamdar, popularly known as Vakil Saheb, who inducted him as an RSS balswayamsevak (junior cadet) and became his political mentor.While Modi was training with the RSS, he also met Vasant Gajendragadkar and Nathalal Jaghda, Bharatiya Jana Sangh leaders who were founding members of the BJP's Gujarat unit in 1980.Engaged while still a child to a local girl, Jashodaben Narendrabhai Modi, Modi rejected the arranged marriage at the same time he graduated from high school.The resulting familial tensions contributed to his decision to leave home in 1967.Modi spent the ensuing two years travelling across Northern and North-eastern India, though few details of where he went have emerged.In interviews, Modi has described visiting Hindu ashrams founded by Swami Vivekananda: the Belur Math near Kolkata, followed by the Advaita Ashrama in Almora and the Ramakrishna mission in Rajkot. Modi remained only a short time at each, since he lacked the required college education.\""
   ]
  },
  {
   "cell_type": "code",
   "execution_count": 52,
   "metadata": {},
   "outputs": [
    {
     "name": "stdout",
     "output_type": "stream",
     "text": [
      "3\n"
     ]
    }
   ],
   "source": [
    "print (assign_txt.count('RSS'))\n"
   ]
  },
  {
   "cell_type": "code",
   "execution_count": 53,
   "metadata": {},
   "outputs": [
    {
     "name": "stdout",
     "output_type": "stream",
     "text": [
      "19\n"
     ]
    }
   ],
   "source": [
    "print (assign_txt.count('Modi'))\n"
   ]
  },
  {
   "cell_type": "code",
   "execution_count": 54,
   "metadata": {},
   "outputs": [
    {
     "data": {
      "text/plain": [
       "str"
      ]
     },
     "execution_count": 54,
     "metadata": {},
     "output_type": "execute_result"
    }
   ],
   "source": [
    "type(assign_txt)\n"
   ]
  },
  {
   "cell_type": "code",
   "execution_count": 55,
   "metadata": {},
   "outputs": [
    {
     "name": "stdout",
     "output_type": "stream",
     "text": [
      "120\n"
     ]
    }
   ],
   "source": [
    "c=0\n",
    "for l in assign_txt:    # 'l' goes through every object in assign_txt       \n",
    "    if l.isupper():    # the moment it encounters a Capital letter\n",
    "        c = c+1\n",
    "      \n",
    "print (c)\n"
   ]
  },
  {
   "cell_type": "code",
   "execution_count": null,
   "metadata": {},
   "outputs": [],
   "source": [
    "##"
   ]
  },
  {
   "cell_type": "markdown",
   "metadata": {},
   "source": [
    "# List Comprehension"
   ]
  },
  {
   "cell_type": "code",
   "execution_count": 66,
   "metadata": {
    "collapsed": true
   },
   "outputs": [],
   "source": [
    "c=[2,3,4,5]"
   ]
  },
  {
   "cell_type": "code",
   "execution_count": 67,
   "metadata": {},
   "outputs": [
    {
     "name": "stdout",
     "output_type": "stream",
     "text": [
      "[4, 9, 16, 25]\n"
     ]
    }
   ],
   "source": [
    "#Suppose we want to create a list containing the squares in the list c\n",
    "#Method 1\n",
    "s=[]\n",
    "for num in c:\n",
    "    s.append(num**2)\n",
    "print(s)"
   ]
  },
  {
   "cell_type": "code",
   "execution_count": 68,
   "metadata": {},
   "outputs": [
    {
     "data": {
      "text/plain": [
       "[4, 9, 16, 25]"
      ]
     },
     "execution_count": 68,
     "metadata": {},
     "output_type": "execute_result"
    }
   ],
   "source": [
    "#Method 2\n",
    "[x**2 for x in c ] #Very concise way"
   ]
  },
  {
   "cell_type": "code",
   "execution_count": 2,
   "metadata": {
    "collapsed": true
   },
   "outputs": [],
   "source": [
    "income = 50000"
   ]
  },
  {
   "cell_type": "code",
   "execution_count": 77,
   "metadata": {},
   "outputs": [
    {
     "ename": "TypeError",
     "evalue": "'int' object is not iterable",
     "output_type": "error",
     "traceback": [
      "\u001b[1;31m---------------------------------------------------------------------------\u001b[0m",
      "\u001b[1;31mTypeError\u001b[0m                                 Traceback (most recent call last)",
      "\u001b[1;32m<ipython-input-77-6a3cbe895872>\u001b[0m in \u001b[0;36m<module>\u001b[1;34m()\u001b[0m\n\u001b[1;32m----> 1\u001b[1;33m \u001b[1;33m[\u001b[0m\u001b[0mx\u001b[0m\u001b[1;33m+\u001b[0m\u001b[1;36m2\u001b[0m \u001b[1;32mfor\u001b[0m \u001b[0mx\u001b[0m \u001b[1;32min\u001b[0m \u001b[0mincome\u001b[0m \u001b[1;33m]\u001b[0m   \u001b[1;31m#Why error\u001b[0m\u001b[1;33m\u001b[0m\u001b[0m\n\u001b[0m",
      "\u001b[1;31mTypeError\u001b[0m: 'int' object is not iterable"
     ]
    }
   ],
   "source": [
    "[x+2 for x in income ]   #Why error"
   ]
  },
  {
   "cell_type": "markdown",
   "metadata": {},
   "source": [
    "\n",
    "Suppose we want to create a list from a and b such that it looks like the following:\n",
    "- [[1,'a'],[2,'b'],[3,'c'],[4,'d']]"
   ]
  },
  {
   "cell_type": "code",
   "execution_count": 69,
   "metadata": {
    "collapsed": true
   },
   "outputs": [],
   "source": [
    "a=[1,2,3,4]\n",
    "b=['a','b','c','d']"
   ]
  },
  {
   "cell_type": "code",
   "execution_count": 70,
   "metadata": {},
   "outputs": [
    {
     "data": {
      "text/plain": [
       "[[1, 'a'], [2, 'b'], [3, 'c'], [4, 'd']]"
      ]
     },
     "execution_count": 70,
     "metadata": {},
     "output_type": "execute_result"
    }
   ],
   "source": [
    "## list comprehension using lists\n",
    "## two for loops in a single line of code\n",
    "[[x,y] for x in a for y in b if a.index(x)==b.index(y)]"
   ]
  },
  {
   "cell_type": "code",
   "execution_count": 74,
   "metadata": {},
   "outputs": [
    {
     "name": "stdout",
     "output_type": "stream",
     "text": [
      "[[0, 3], [0, 4], [1, 3], [1, 4]]\n"
     ]
    }
   ],
   "source": [
    "## list comprehension on 'range'\n",
    "pairs = []\n",
    "for p in range(0,2):\n",
    "    for q in range(3,5):\n",
    "        pairs.append([p,q])\n",
    "print(pairs)"
   ]
  },
  {
   "cell_type": "code",
   "execution_count": 73,
   "metadata": {},
   "outputs": [
    {
     "name": "stdout",
     "output_type": "stream",
     "text": [
      "[[0, 3], [0, 4], [1, 3], [1, 4]]\n"
     ]
    }
   ],
   "source": [
    "# better method\n",
    "pairs2 = [[p,q] for p in range(0,2) for q in range(3,5)]\n",
    "print(pairs2)"
   ]
  },
  {
   "cell_type": "code",
   "execution_count": 4,
   "metadata": {},
   "outputs": [
    {
     "data": {
      "text/plain": [
       "<zip at 0x61d47c8>"
      ]
     },
     "execution_count": 4,
     "metadata": {},
     "output_type": "execute_result"
    }
   ],
   "source": [
    "# zip\n",
    "a=[1,2,3,4]\n",
    "b=['a','b','c','d']\n",
    "zip(a,b) \n",
    "#zip gives a generator expression"
   ]
  },
  {
   "cell_type": "code",
   "execution_count": 5,
   "metadata": {},
   "outputs": [
    {
     "name": "stdout",
     "output_type": "stream",
     "text": [
      "[(1, 'a'), (2, 'b'), (3, 'c'), (4, 'd')]\n"
     ]
    }
   ],
   "source": [
    "# list comprehension on a generator expression\n",
    "print(list(zip(a,b)))"
   ]
  },
  {
   "cell_type": "code",
   "execution_count": 32,
   "metadata": {},
   "outputs": [
    {
     "data": {
      "text/plain": [
       "[[1, 'a'], [2, 'b'], [3, 'c'], [4, 'd']]"
      ]
     },
     "execution_count": 32,
     "metadata": {},
     "output_type": "execute_result"
    }
   ],
   "source": [
    "[list(x) for x in zip(a,b) ]"
   ]
  },
  {
   "cell_type": "code",
   "execution_count": 75,
   "metadata": {},
   "outputs": [
    {
     "name": "stdout",
     "output_type": "stream",
     "text": [
      "['P', 'Q', 'R']\n"
     ]
    }
   ],
   "source": [
    "x = ['P', 6, 1, 'Q', 5, 'R']           #List Comprehension - Conditions on output expression\n",
    "strings = [y for y in x if type(y) == str]\n",
    "print(strings)"
   ]
  },
  {
   "cell_type": "code",
   "execution_count": 78,
   "metadata": {},
   "outputs": [
    {
     "data": {
      "text/plain": [
       "[0, 4, 16, 36, 64]"
      ]
     },
     "execution_count": 78,
     "metadata": {},
     "output_type": "execute_result"
    }
   ],
   "source": [
    "# ## square only if its even\n",
    "[num**2 for num in range(10) if num%2 ==0]"
   ]
  },
  {
   "cell_type": "code",
   "execution_count": 79,
   "metadata": {},
   "outputs": [
    {
     "data": {
      "text/plain": [
       "[0, 0, 4, 0, 16, 0, 36, 0, 64, 0]"
      ]
     },
     "execution_count": 79,
     "metadata": {},
     "output_type": "execute_result"
    }
   ],
   "source": [
    "[num**2 if num%2 ==0 else 0 for num in range(10)]"
   ]
  },
  {
   "cell_type": "code",
   "execution_count": null,
   "metadata": {},
   "outputs": [],
   "source": [
    "##"
   ]
  },
  {
   "cell_type": "code",
   "execution_count": 81,
   "metadata": {
    "scrolled": true
   },
   "outputs": [
    {
     "name": "stdout",
     "output_type": "stream",
     "text": [
      "<generator object <genexpr> at 0x0000016FCB029AF0>\n",
      "[4, 1, 6]\n"
     ]
    }
   ],
   "source": [
    "## generator expressions\n",
    "## useful when producing a list with many elements\n",
    "## this output saves memory space\n",
    "## can loop over as seen before - past list()\n",
    "\n",
    "int_list = [-2, 4, 1, 6, -3]\n",
    "print(x for x in int_list if x > 0) ## use () instead of []\n",
    "print(list(x for x in int_list if x > 0))"
   ]
  },
  {
   "cell_type": "code",
   "execution_count": null,
   "metadata": {},
   "outputs": [],
   "source": [
    "##"
   ]
  },
  {
   "cell_type": "markdown",
   "metadata": {},
   "source": [
    "### Lambdas, map\n",
    "- We can use lambdas, map to replicate the functionality of list comprehension"
   ]
  },
  {
   "cell_type": "code",
   "execution_count": 41,
   "metadata": {},
   "outputs": [
    {
     "name": "stdout",
     "output_type": "stream",
     "text": [
      "<map object at 0x0000020F976D0320>\n",
      "<filter object at 0x0000020F976D0358>\n",
      "[16.528925619834713, 19.031141868512112]\n"
     ]
    }
   ],
   "source": [
    "mass=[45,55,65,76]\n",
    "ht=[1.65,1.70,1.55,1.80]\n",
    "bmi=map(lambda x,y:x/y**2,mass,ht) ##(output, sequence)\n",
    "bmi_f=filter(lambda x:x<20,bmi) ##(condition, sequence)\n",
    "print (bmi)\n",
    "print (bmi_f)\n",
    "#print(list(bmi))\n",
    "print(list(bmi_f))"
   ]
  },
  {
   "cell_type": "code",
   "execution_count": 8,
   "metadata": {},
   "outputs": [
    {
     "name": "stdout",
     "output_type": "stream",
     "text": [
      "YayYayYay\n"
     ]
    }
   ],
   "source": [
    "# Define W1 as a lambda function\n",
    "W1 = (lambda x, y: x * y)\n",
    "\n",
    "# Call W1: result\n",
    "result = W1('Yay', 3)\n",
    "\n",
    "# Print result\n",
    "print(result)"
   ]
  },
  {
   "cell_type": "code",
   "execution_count": 44,
   "metadata": {},
   "outputs": [
    {
     "data": {
      "text/plain": [
       "[4, 16, 36, 64, 100]"
      ]
     },
     "execution_count": 44,
     "metadata": {},
     "output_type": "execute_result"
    }
   ],
   "source": [
    "nums = [2, 4, 6, 8, 10]\n",
    "result = map(lambda a: a ** 2, nums)\n",
    "list(result)"
   ]
  },
  {
   "cell_type": "code",
   "execution_count": 10,
   "metadata": {
    "scrolled": true
   },
   "outputs": [
    {
     "name": "stdout",
     "output_type": "stream",
     "text": [
      "['Chennai', 'Kolkata']\n"
     ]
    }
   ],
   "source": [
    "# # Filter\n",
    "Cities = ['Delhi', 'Pune', 'Chennai', 'Kolkata']\n",
    "\n",
    "# Use filter() to apply a lambda function over fellowship: result\n",
    "result = filter(lambda m: len(m) > 6, Cities)\n",
    "\n",
    "type(result)\n",
    "# Convert result to a list: result_list\n",
    "result_list = list(result)\n",
    "\n",
    "# Convert result into a list and print it\n",
    "print(result_list)\n"
   ]
  },
  {
   "cell_type": "markdown",
   "metadata": {},
   "source": [
    "# Error Handling"
   ]
  },
  {
   "cell_type": "markdown",
   "metadata": {},
   "source": [
    "#### Error handling helps to print an error message if a particular condition is not satisfied"
   ]
  },
  {
   "cell_type": "code",
   "execution_count": 5,
   "metadata": {},
   "outputs": [
    {
     "name": "stdout",
     "output_type": "stream",
     "text": [
      "x argument must be a string and y argument must be an integer.\n"
     ]
    },
    {
     "data": {
      "text/plain": [
       "'YayYayYay!!'"
      ]
     },
     "execution_count": 5,
     "metadata": {},
     "output_type": "execute_result"
    }
   ],
   "source": [
    "# a function where if its not satisfied\n",
    "## Prints an error message - if input is int instead of str\n",
    "# Define w\n",
    "def w3(x, y=1):\n",
    "    ## doc string - a document for the fn thats created\n",
    "    \"\"\"Concatenate  copies of word1 and two\n",
    "    exclamation marks at the end of the string.\"\"\"\n",
    "\n",
    "    # Initialize empty strings: \n",
    "    w3 = ''\n",
    "    s3 = ''\n",
    "\n",
    "    # Add exception handling with try-except\n",
    "    try:\n",
    "        # Concatenate copies of word using *\n",
    "        w3 = x * y\n",
    "\n",
    "        # Concatenate '!!' \n",
    "        s3 = w3 + '!!'\n",
    "    except:\n",
    "        # Print error message\n",
    "        print(\"x argument must be a string and y argument must be an integer.\")\n",
    "\n",
    "   \n",
    "    return s3\n",
    "\n",
    "# Call s\n",
    "\n",
    "w3(\"Yay\", \"Great\") #gives an error\n",
    "w3 (\"Yay\", 3)"
   ]
  },
  {
   "cell_type": "code",
   "execution_count": null,
   "metadata": {},
   "outputs": [],
   "source": [
    "##"
   ]
  },
  {
   "cell_type": "markdown",
   "metadata": {},
   "source": [
    "### Tuples\n",
    "- Tuples as immutable iterables\n",
    "- Tuple methods"
   ]
  },
  {
   "cell_type": "markdown",
   "metadata": {},
   "source": [
    "#### Processing a tuple is faster than processing a list.\n",
    "#### Creating a tuple is faster than creating a list. Creating a list is slower because two memory blocks need to be accessed"
   ]
  },
  {
   "cell_type": "markdown",
   "metadata": {},
   "source": [
    "#### The reasons for having immutable types apply to tuples:\n",
    "#### copy efficiency: rather than copying an immutable object, you can alias it (bind a variable to a reference)\n",
    "#### comparison efficiency: when you're using copy-by-reference, you can compare two variables by comparing location, rather than content"
   ]
  },
  {
   "cell_type": "code",
   "execution_count": 94,
   "metadata": {},
   "outputs": [
    {
     "name": "stdout",
     "output_type": "stream",
     "text": [
      "(1, 2, 3, 5)\n"
     ]
    }
   ],
   "source": [
    "t=(1,2,3,5)\n",
    "print(t)"
   ]
  },
  {
   "cell_type": "code",
   "execution_count": 95,
   "metadata": {},
   "outputs": [
    {
     "name": "stdout",
     "output_type": "stream",
     "text": [
      "1\n",
      "2\n"
     ]
    }
   ],
   "source": [
    "print(t[0])\n",
    "print (t[1])"
   ]
  },
  {
   "cell_type": "code",
   "execution_count": 97,
   "metadata": {},
   "outputs": [
    {
     "name": "stdout",
     "output_type": "stream",
     "text": [
      "[0, 2, 3, 4]\n"
     ]
    }
   ],
   "source": [
    "li6=[1,2,3,4]\n",
    "li6[0]=0\n",
    "print (li6)"
   ]
  },
  {
   "cell_type": "code",
   "execution_count": 98,
   "metadata": {},
   "outputs": [
    {
     "ename": "TypeError",
     "evalue": "'tuple' object does not support item assignment",
     "output_type": "error",
     "traceback": [
      "\u001b[1;31m---------------------------------------------------------------------------\u001b[0m",
      "\u001b[1;31mTypeError\u001b[0m                                 Traceback (most recent call last)",
      "\u001b[1;32m<ipython-input-98-525eef5334c1>\u001b[0m in \u001b[0;36m<module>\u001b[1;34m()\u001b[0m\n\u001b[1;32m----> 1\u001b[1;33m \u001b[0mt\u001b[0m\u001b[1;33m[\u001b[0m\u001b[1;36m0\u001b[0m\u001b[1;33m]\u001b[0m\u001b[1;33m=\u001b[0m\u001b[1;36m0\u001b[0m\u001b[1;33m\u001b[0m\u001b[0m\n\u001b[0m",
      "\u001b[1;31mTypeError\u001b[0m: 'tuple' object does not support item assignment"
     ]
    }
   ],
   "source": [
    "t[0]=0"
   ]
  },
  {
   "cell_type": "code",
   "execution_count": 104,
   "metadata": {},
   "outputs": [
    {
     "name": "stdout",
     "output_type": "stream",
     "text": [
      "['__add__', '__class__', '__contains__', '__delattr__', '__dir__', '__doc__', '__eq__', '__format__', '__ge__', '__getattribute__', '__getitem__', '__getnewargs__', '__gt__', '__hash__', '__init__', '__init_subclass__', '__iter__', '__le__', '__len__', '__lt__', '__mul__', '__ne__', '__new__', '__reduce__', '__reduce_ex__', '__repr__', '__rmul__', '__setattr__', '__sizeof__', '__str__', '__subclasshook__', 'count', 'index']\n"
     ]
    }
   ],
   "source": [
    "# ## dir() - shows list of methods, fns and attributes that \n",
    "# ## is used on specific objects\n",
    "print (dir(t))"
   ]
  },
  {
   "cell_type": "code",
   "execution_count": null,
   "metadata": {},
   "outputs": [],
   "source": [
    "##"
   ]
  },
  {
   "cell_type": "markdown",
   "metadata": {},
   "source": [
    "### Dictionaries\n",
    "- Dictionaries as hashbles\n",
    "- Extracting keys, values\n",
    "- Sorting  a dictionary\n",
    "- Looping through a dictionary"
   ]
  },
  {
   "cell_type": "code",
   "execution_count": 112,
   "metadata": {},
   "outputs": [
    {
     "data": {
      "text/plain": [
       "40000"
      ]
     },
     "execution_count": 112,
     "metadata": {},
     "output_type": "execute_result"
    }
   ],
   "source": [
    "Income = [30000,40000,25000]\n",
    "name = [\"Umesh\", \"Ramesh\",\"Nilesh\"]\n",
    "## roundabout way of accessing income of Ramesh\n",
    "in_r = name.index('Ramesh')\n",
    "in_r\n",
    "Income[in_r]"
   ]
  },
  {
   "cell_type": "code",
   "execution_count": 30,
   "metadata": {
    "scrolled": true
   },
   "outputs": [
    {
     "name": "stdout",
     "output_type": "stream",
     "text": [
      "{'Nilesh': 25000, 'Ramesh': 40000, 'Umesh': 30000}\n"
     ]
    }
   ],
   "source": [
    "## easier way - create dict\n",
    "#Dictionary - key:value pairs\n",
    "\n",
    "Inc = {\"Umesh\":30000,\"Ramesh\":40000,\"Nilesh\":25000}\n",
    "print(Inc)"
   ]
  },
  {
   "cell_type": "code",
   "execution_count": 31,
   "metadata": {},
   "outputs": [
    {
     "name": "stdout",
     "output_type": "stream",
     "text": [
      "30000\n"
     ]
    }
   ],
   "source": [
    "#dict_name[key]\n",
    "\n",
    "print(Inc[\"Umesh\"])"
   ]
  },
  {
   "cell_type": "code",
   "execution_count": 32,
   "metadata": {},
   "outputs": [
    {
     "name": "stdout",
     "output_type": "stream",
     "text": [
      "dict_keys(['Nilesh', 'Ramesh', 'Umesh'])\n",
      "dict_values([25000, 40000, 30000])\n"
     ]
    }
   ],
   "source": [
    "#Print keys in Inc\n",
    "\n",
    "print(Inc.keys()) ## all unique keys in dict\n",
    "print(Inc.values()) ## all unique values in dict"
   ]
  },
  {
   "cell_type": "code",
   "execution_count": 118,
   "metadata": {},
   "outputs": [
    {
     "data": {
      "text/plain": [
       "True"
      ]
     },
     "execution_count": 118,
     "metadata": {},
     "output_type": "execute_result"
    }
   ],
   "source": [
    "\"Nilesh\" in Inc ## is Nilesh a key in Inc?"
   ]
  },
  {
   "cell_type": "code",
   "execution_count": 33,
   "metadata": {},
   "outputs": [
    {
     "name": "stdout",
     "output_type": "stream",
     "text": [
      "{'Nilesh': 35000, 'Ramesh': 40000, 'Umesh': 30000}\n"
     ]
    }
   ],
   "source": [
    "Inc[\"Nilesh\"] = 35000\n",
    "print(Inc)"
   ]
  },
  {
   "cell_type": "code",
   "execution_count": 120,
   "metadata": {
    "collapsed": true
   },
   "outputs": [],
   "source": [
    "del(Inc[\"Nilesh\"])"
   ]
  },
  {
   "cell_type": "code",
   "execution_count": 121,
   "metadata": {},
   "outputs": [
    {
     "name": "stdout",
     "output_type": "stream",
     "text": [
      "{'Umesh': 30000, 'Ramesh': 40000}\n"
     ]
    }
   ],
   "source": [
    "print(Inc)"
   ]
  },
  {
   "cell_type": "code",
   "execution_count": 123,
   "metadata": {},
   "outputs": [
    {
     "name": "stdout",
     "output_type": "stream",
     "text": [
      "['__class__', '__contains__', '__delattr__', '__delitem__', '__dir__', '__doc__', '__eq__', '__format__', '__ge__', '__getattribute__', '__getitem__', '__gt__', '__hash__', '__init__', '__init_subclass__', '__iter__', '__le__', '__len__', '__lt__', '__ne__', '__new__', '__reduce__', '__reduce_ex__', '__repr__', '__setattr__', '__setitem__', '__sizeof__', '__str__', '__subclasshook__', 'clear', 'copy', 'fromkeys', 'get', 'items', 'keys', 'pop', 'popitem', 'setdefault', 'update', 'values']\n"
     ]
    }
   ],
   "source": [
    "print (dir(Inc))"
   ]
  },
  {
   "cell_type": "code",
   "execution_count": 131,
   "metadata": {},
   "outputs": [
    {
     "name": "stdout",
     "output_type": "stream",
     "text": [
      "dict_items([('Umesh', 30000), ('Ramesh', 40000)])\n"
     ]
    }
   ],
   "source": [
    "print (Inc.items()) ##key-value pairs"
   ]
  },
  {
   "cell_type": "code",
   "execution_count": 135,
   "metadata": {},
   "outputs": [
    {
     "name": "stdout",
     "output_type": "stream",
     "text": [
      "40000\n",
      "{'Ramesh': {'Gender': 'male', 'Income': 40000}, 'Ana': {'Gender': 'female', 'Income': 66000}, 'Uma': {'Gender': 'female', 'Income': 20000}, 'Umesh': {'Gender': 'male', 'Income': 58000}, 'Seema': {'Gender': 'female', 'Income': 30000}}\n"
     ]
    }
   ],
   "source": [
    "# Dictionary of dictionaries\n",
    "Income1 = { 'Ramesh': { 'Gender':'male', 'Income':40000},\n",
    "           'Ana': { 'Gender':'female', 'Income':66000 },\n",
    "           'Uma': { 'Gender':'female', 'Income':20000 },\n",
    "           'Umesh': { 'Gender':'male', 'Income':58000 } }"
   ]
  },
  {
   "cell_type": "code",
   "execution_count": null,
   "metadata": {},
   "outputs": [],
   "source": [
    "## multiple level slicing\n",
    "# Print out the Income of Ramesh\n",
    "print(Income1['Ramesh']['Income'])"
   ]
  },
  {
   "cell_type": "code",
   "execution_count": null,
   "metadata": {},
   "outputs": [],
   "source": [
    "# # Create sub-dictionary data\n",
    "income2 = { 'Gender':'female', 'Income':30000 }"
   ]
  },
  {
   "cell_type": "code",
   "execution_count": null,
   "metadata": {},
   "outputs": [],
   "source": [
    "# Add data to europe under key 'italy'\n",
    "Income1['Seema'] = income2\n",
    "# Print\n",
    "print(Income1)"
   ]
  },
  {
   "cell_type": "code",
   "execution_count": 129,
   "metadata": {},
   "outputs": [
    {
     "name": "stdout",
     "output_type": "stream",
     "text": [
      "Umesh\n",
      "Ramesh\n"
     ]
    }
   ],
   "source": [
    "for x in Inc:\n",
    "    print (x)"
   ]
  },
  {
   "cell_type": "code",
   "execution_count": 130,
   "metadata": {},
   "outputs": [
    {
     "name": "stdout",
     "output_type": "stream",
     "text": [
      "Umesh 30000\n",
      "Ramesh 40000\n"
     ]
    }
   ],
   "source": [
    "for x in Inc:\n",
    "    print (x, Inc[x])"
   ]
  },
  {
   "cell_type": "code",
   "execution_count": 11,
   "metadata": {},
   "outputs": [
    {
     "name": "stdout",
     "output_type": "stream",
     "text": [
      "{0: 0, 1: -1, 2: -2}\n"
     ]
    },
    {
     "data": {
      "text/plain": [
       "dict"
      ]
     },
     "execution_count": 11,
     "metadata": {},
     "output_type": "execute_result"
    }
   ],
   "source": [
    "#List Comprehension on Dictionaries\n",
    "\n",
    "pos_neg = {l:-l for l in range(3)}\n",
    "print(pos_neg)\n",
    "type(pos_neg)"
   ]
  },
  {
   "cell_type": "code",
   "execution_count": null,
   "metadata": {},
   "outputs": [],
   "source": []
  },
  {
   "cell_type": "markdown",
   "metadata": {},
   "source": [
    "### Use the assign_txt\n",
    "- Find out the occurence of each word in text string (Create a list of each word in the string, loop over this list to create a dictionary of words and their occurences"
   ]
  },
  {
   "cell_type": "code",
   "execution_count": 28,
   "metadata": {
    "collapsed": true
   },
   "outputs": [],
   "source": [
    "d={}\n",
    "for w in assign_txt.split(\" \"): # splitting the whole text on the basis of text\n",
    "    if w in d: # if the word is in the document, then add word to the dict d\n",
    "        d[w]=d[w]+1 # if the word repeats then add the count of the word +1 to the dict\n",
    "    else:\n",
    "        d[w]=1 # else keep the count of the word as 1 in the dict\n",
    "    "
   ]
  },
  {
   "cell_type": "code",
   "execution_count": 49,
   "metadata": {},
   "outputs": [],
   "source": [
    "# ## frequency count of every word in the doc\n",
    "print (d)"
   ]
  },
  {
   "cell_type": "code",
   "execution_count": null,
   "metadata": {},
   "outputs": [],
   "source": [
    "## "
   ]
  },
  {
   "cell_type": "markdown",
   "metadata": {},
   "source": [
    "### Files\n",
    "- Reading files\n",
    "- Manipulating data in file objects\n",
    "- Writing out files"
   ]
  },
  {
   "cell_type": "code",
   "execution_count": 35,
   "metadata": {},
   "outputs": [],
   "source": [
    "# modules interlude\n",
    "## this os module helps establish a connection between\n",
    "## OS and Python 3 env\n",
    "import os\n",
    "os.chdir('E:\\Python for ML')"
   ]
  },
  {
   "cell_type": "code",
   "execution_count": 50,
   "metadata": {},
   "outputs": [],
   "source": [
    "## open and read a plain text file\n",
    "f=open('tweets_assignment.txt','r') ## mode=r (w, rb)\n",
    "fo=f.read()\n",
    "print(type(f)) ## special file type\n",
    "print(type(fo)) ## type becomes str after .read()\n",
    "f.close()"
   ]
  },
  {
   "cell_type": "code",
   "execution_count": 37,
   "metadata": {
    "collapsed": true
   },
   "outputs": [],
   "source": [
    "## open and write \n",
    "f=open('write.txt','w')\n",
    "for dt in fo:\n",
    "    f.write(dt+'\\n')\n",
    "f.close()"
   ]
  },
  {
   "cell_type": "code",
   "execution_count": 39,
   "metadata": {
    "collapsed": true
   },
   "outputs": [],
   "source": [
    "## context manager - no need to close the file\n",
    "with open(\"tweets_assignment.txt\",\"r\") as infile:\n",
    "    dat=infile.read()"
   ]
  },
  {
   "cell_type": "code",
   "execution_count": 40,
   "metadata": {},
   "outputs": [
    {
     "data": {
      "text/plain": [
       "'\"Tweet_Date\"|\"Tweet_Text\"|\"Tweet_Handle\"\\n\"Thu Dec 26 123415 0000 2013\"|\"ashdubey ratigirl FirstpostB'"
      ]
     },
     "execution_count": 40,
     "metadata": {},
     "output_type": "execute_result"
    }
   ],
   "source": [
    "dat[0:100]"
   ]
  },
  {
   "cell_type": "markdown",
   "metadata": {
    "collapsed": true
   },
   "source": [
    "### end of the notebook"
   ]
  }
 ],
 "metadata": {
  "kernelspec": {
   "display_name": "Python 3",
   "language": "python",
   "name": "python3"
  },
  "language_info": {
   "codemirror_mode": {
    "name": "ipython",
    "version": 3
   },
   "file_extension": ".py",
   "mimetype": "text/x-python",
   "name": "python",
   "nbconvert_exporter": "python",
   "pygments_lexer": "ipython3",
   "version": "3.6.5"
  }
 },
 "nbformat": 4,
 "nbformat_minor": 1
}
